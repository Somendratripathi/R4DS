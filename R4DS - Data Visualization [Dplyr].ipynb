{
 "cells": [
  {
   "cell_type": "code",
   "execution_count": 27,
   "metadata": {},
   "outputs": [
    {
     "name": "stderr",
     "output_type": "stream",
     "text": [
      "Warning message:\n",
      "\"package 'nycflights13' is in use and will not be installed\""
     ]
    }
   ],
   "source": [
    "install.packages(\"nycflights13\")"
   ]
  },
  {
   "cell_type": "code",
   "execution_count": 28,
   "metadata": {
    "scrolled": true
   },
   "outputs": [],
   "source": [
    "library(\"nycflights13\")\n",
    "library(tidyverse)"
   ]
  },
  {
   "cell_type": "code",
   "execution_count": 3,
   "metadata": {},
   "outputs": [
    {
     "data": {
      "text/plain": [
       "      year          month             day           dep_time    sched_dep_time\n",
       " Min.   :2013   Min.   : 1.000   Min.   : 1.00   Min.   :   1   Min.   : 106  \n",
       " 1st Qu.:2013   1st Qu.: 4.000   1st Qu.: 8.00   1st Qu.: 907   1st Qu.: 906  \n",
       " Median :2013   Median : 7.000   Median :16.00   Median :1401   Median :1359  \n",
       " Mean   :2013   Mean   : 6.549   Mean   :15.71   Mean   :1349   Mean   :1344  \n",
       " 3rd Qu.:2013   3rd Qu.:10.000   3rd Qu.:23.00   3rd Qu.:1744   3rd Qu.:1729  \n",
       " Max.   :2013   Max.   :12.000   Max.   :31.00   Max.   :2400   Max.   :2359  \n",
       "                                                 NA's   :8255                 \n",
       "   dep_delay          arr_time    sched_arr_time   arr_delay       \n",
       " Min.   : -43.00   Min.   :   1   Min.   :   1   Min.   : -86.000  \n",
       " 1st Qu.:  -5.00   1st Qu.:1104   1st Qu.:1124   1st Qu.: -17.000  \n",
       " Median :  -2.00   Median :1535   Median :1556   Median :  -5.000  \n",
       " Mean   :  12.64   Mean   :1502   Mean   :1536   Mean   :   6.895  \n",
       " 3rd Qu.:  11.00   3rd Qu.:1940   3rd Qu.:1945   3rd Qu.:  14.000  \n",
       " Max.   :1301.00   Max.   :2400   Max.   :2359   Max.   :1272.000  \n",
       " NA's   :8255      NA's   :8713                  NA's   :9430      \n",
       "   carrier              flight       tailnum             origin         \n",
       " Length:336776      Min.   :   1   Length:336776      Length:336776     \n",
       " Class :character   1st Qu.: 553   Class :character   Class :character  \n",
       " Mode  :character   Median :1496   Mode  :character   Mode  :character  \n",
       "                    Mean   :1972                                        \n",
       "                    3rd Qu.:3465                                        \n",
       "                    Max.   :8500                                        \n",
       "                                                                        \n",
       "     dest              air_time        distance         hour      \n",
       " Length:336776      Min.   : 20.0   Min.   :  17   Min.   : 1.00  \n",
       " Class :character   1st Qu.: 82.0   1st Qu.: 502   1st Qu.: 9.00  \n",
       " Mode  :character   Median :129.0   Median : 872   Median :13.00  \n",
       "                    Mean   :150.7   Mean   :1040   Mean   :13.18  \n",
       "                    3rd Qu.:192.0   3rd Qu.:1389   3rd Qu.:17.00  \n",
       "                    Max.   :695.0   Max.   :4983   Max.   :23.00  \n",
       "                    NA's   :9430                                  \n",
       "     minute        time_hour                  \n",
       " Min.   : 0.00   Min.   :2013-01-01 05:00:00  \n",
       " 1st Qu.: 8.00   1st Qu.:2013-04-04 13:00:00  \n",
       " Median :29.00   Median :2013-07-03 10:00:00  \n",
       " Mean   :26.23   Mean   :2013-07-03 05:02:36  \n",
       " 3rd Qu.:44.00   3rd Qu.:2013-10-01 07:00:00  \n",
       " Max.   :59.00   Max.   :2013-12-31 23:00:00  \n",
       "                                              "
      ]
     },
     "metadata": {},
     "output_type": "display_data"
    }
   ],
   "source": [
    "summary(nycflights13::flights)"
   ]
  },
  {
   "cell_type": "code",
   "execution_count": 16,
   "metadata": {},
   "outputs": [
    {
     "name": "stdout",
     "output_type": "stream",
     "text": [
      "Classes 'tbl_df', 'tbl' and 'data.frame':\t336776 obs. of  19 variables:\n",
      " $ year          : int  2013 2013 2013 2013 2013 2013 2013 2013 2013 2013 ...\n",
      " $ month         : int  1 1 1 1 1 1 1 1 1 1 ...\n",
      " $ day           : int  1 1 1 1 1 1 1 1 1 1 ...\n",
      " $ dep_time      : int  517 533 542 544 554 554 555 557 557 558 ...\n",
      " $ sched_dep_time: int  515 529 540 545 600 558 600 600 600 600 ...\n",
      " $ dep_delay     : num  2 4 2 -1 -6 -4 -5 -3 -3 -2 ...\n",
      " $ arr_time      : int  830 850 923 1004 812 740 913 709 838 753 ...\n",
      " $ sched_arr_time: int  819 830 850 1022 837 728 854 723 846 745 ...\n",
      " $ arr_delay     : num  11 20 33 -18 -25 12 19 -14 -8 8 ...\n",
      " $ carrier       : chr  \"UA\" \"UA\" \"AA\" \"B6\" ...\n",
      " $ flight        : int  1545 1714 1141 725 461 1696 507 5708 79 301 ...\n",
      " $ tailnum       : chr  \"N14228\" \"N24211\" \"N619AA\" \"N804JB\" ...\n",
      " $ origin        : chr  \"EWR\" \"LGA\" \"JFK\" \"JFK\" ...\n",
      " $ dest          : chr  \"IAH\" \"IAH\" \"MIA\" \"BQN\" ...\n",
      " $ air_time      : num  227 227 160 183 116 150 158 53 140 138 ...\n",
      " $ distance      : num  1400 1416 1089 1576 762 ...\n",
      " $ hour          : num  5 5 5 5 6 5 6 6 6 6 ...\n",
      " $ minute        : num  15 29 40 45 0 58 0 0 0 0 ...\n",
      " $ time_hour     : POSIXct, format: \"2013-01-01 05:00:00\" \"2013-01-01 05:00:00\" ...\n"
     ]
    }
   ],
   "source": [
    "str(flights)"
   ]
  },
  {
   "cell_type": "code",
   "execution_count": 17,
   "metadata": {},
   "outputs": [
    {
     "data": {
      "text/html": [],
      "text/latex": [],
      "text/markdown": [],
      "text/plain": [
       "<0 x 0 matrix>"
      ]
     },
     "metadata": {},
     "output_type": "display_data"
    }
   ],
   "source": [
    "summarize(flights)"
   ]
  },
  {
   "cell_type": "markdown",
   "metadata": {},
   "source": [
    "# FILTER()"
   ]
  },
  {
   "cell_type": "markdown",
   "metadata": {},
   "source": [
    "### Pick observations by their values (filter())."
   ]
  },
  {
   "cell_type": "code",
   "execution_count": 38,
   "metadata": {},
   "outputs": [
    {
     "data": {
      "text/html": [
       "<table>\n",
       "<thead><tr><th scope=col>year</th><th scope=col>month</th><th scope=col>day</th><th scope=col>dep_time</th><th scope=col>sched_dep_time</th><th scope=col>dep_delay</th><th scope=col>arr_time</th><th scope=col>sched_arr_time</th><th scope=col>arr_delay</th><th scope=col>carrier</th><th scope=col>flight</th><th scope=col>tailnum</th><th scope=col>origin</th><th scope=col>dest</th><th scope=col>air_time</th><th scope=col>distance</th><th scope=col>hour</th><th scope=col>minute</th><th scope=col>time_hour</th></tr></thead>\n",
       "<tbody>\n",
       "\t<tr><td>2013               </td><td>1                  </td><td>1                  </td><td>555                </td><td>600                </td><td>-5                 </td><td> 913               </td><td> 854               </td><td> 19                </td><td>B6                 </td><td> 507               </td><td>N516JB             </td><td>EWR                </td><td>FLL                </td><td>158                </td><td>1065               </td><td>6                  </td><td> 0                 </td><td>2013-01-01 06:00:00</td></tr>\n",
       "\t<tr><td>2013               </td><td>1                  </td><td>1                  </td><td>558                </td><td>600                </td><td>-2                 </td><td> 853               </td><td> 856               </td><td> -3                </td><td>B6                 </td><td>  71               </td><td>N657JB             </td><td>JFK                </td><td>TPA                </td><td>158                </td><td>1005               </td><td>6                  </td><td> 0                 </td><td>2013-01-01 06:00:00</td></tr>\n",
       "\t<tr><td>2013               </td><td>1                  </td><td>1                  </td><td>741                </td><td>745                </td><td>-4                 </td><td>1038               </td><td>1036               </td><td>  2                </td><td>B6                 </td><td> 983               </td><td>N633JB             </td><td>LGA                </td><td>TPA                </td><td>158                </td><td>1010               </td><td>7                  </td><td>45                 </td><td>2013-01-01 07:00:00</td></tr>\n",
       "\t<tr><td>2013               </td><td>1                  </td><td>1                  </td><td>759                </td><td>800                </td><td>-1                 </td><td>1057               </td><td>1127               </td><td>-30                </td><td>DL                 </td><td>1843               </td><td>N955DL             </td><td>JFK                </td><td>MIA                </td><td>158                </td><td>1089               </td><td>8                  </td><td> 0                 </td><td>2013-01-01 08:00:00</td></tr>\n",
       "\t<tr><td>2013               </td><td>1                  </td><td>1                  </td><td>856                </td><td>900                </td><td>-4                 </td><td>1222               </td><td>1232               </td><td>-10                </td><td>DL                 </td><td>2143               </td><td>N970DL             </td><td>LGA                </td><td>MIA                </td><td>158                </td><td>1096               </td><td>9                  </td><td> 0                 </td><td>2013-01-01 09:00:00</td></tr>\n",
       "\t<tr><td>2013               </td><td>1                  </td><td>1                  </td><td>904                </td><td>906                </td><td>-2                 </td><td>1207               </td><td>1226               </td><td>-19                </td><td>UA                 </td><td>1401               </td><td>N77525             </td><td>EWR                </td><td>MIA                </td><td>158                </td><td>1085               </td><td>9                  </td><td> 6                 </td><td>2013-01-01 09:00:00</td></tr>\n",
       "</tbody>\n",
       "</table>\n"
      ],
      "text/latex": [
       "\\begin{tabular}{r|lllllllllllllllllll}\n",
       " year & month & day & dep\\_time & sched\\_dep\\_time & dep\\_delay & arr\\_time & sched\\_arr\\_time & arr\\_delay & carrier & flight & tailnum & origin & dest & air\\_time & distance & hour & minute & time\\_hour\\\\\n",
       "\\hline\n",
       "\t 2013                & 1                   & 1                   & 555                 & 600                 & -5                  &  913                &  854                &  19                 & B6                  &  507                & N516JB              & EWR                 & FLL                 & 158                 & 1065                & 6                   &  0                  & 2013-01-01 06:00:00\\\\\n",
       "\t 2013                & 1                   & 1                   & 558                 & 600                 & -2                  &  853                &  856                &  -3                 & B6                  &   71                & N657JB              & JFK                 & TPA                 & 158                 & 1005                & 6                   &  0                  & 2013-01-01 06:00:00\\\\\n",
       "\t 2013                & 1                   & 1                   & 741                 & 745                 & -4                  & 1038                & 1036                &   2                 & B6                  &  983                & N633JB              & LGA                 & TPA                 & 158                 & 1010                & 7                   & 45                  & 2013-01-01 07:00:00\\\\\n",
       "\t 2013                & 1                   & 1                   & 759                 & 800                 & -1                  & 1057                & 1127                & -30                 & DL                  & 1843                & N955DL              & JFK                 & MIA                 & 158                 & 1089                & 8                   &  0                  & 2013-01-01 08:00:00\\\\\n",
       "\t 2013                & 1                   & 1                   & 856                 & 900                 & -4                  & 1222                & 1232                & -10                 & DL                  & 2143                & N970DL              & LGA                 & MIA                 & 158                 & 1096                & 9                   &  0                  & 2013-01-01 09:00:00\\\\\n",
       "\t 2013                & 1                   & 1                   & 904                 & 906                 & -2                  & 1207                & 1226                & -19                 & UA                  & 1401                & N77525              & EWR                 & MIA                 & 158                 & 1085                & 9                   &  6                  & 2013-01-01 09:00:00\\\\\n",
       "\\end{tabular}\n"
      ],
      "text/markdown": [
       "\n",
       "year | month | day | dep_time | sched_dep_time | dep_delay | arr_time | sched_arr_time | arr_delay | carrier | flight | tailnum | origin | dest | air_time | distance | hour | minute | time_hour | \n",
       "|---|---|---|---|---|---|\n",
       "| 2013                | 1                   | 1                   | 555                 | 600                 | -5                  |  913                |  854                |  19                 | B6                  |  507                | N516JB              | EWR                 | FLL                 | 158                 | 1065                | 6                   |  0                  | 2013-01-01 06:00:00 | \n",
       "| 2013                | 1                   | 1                   | 558                 | 600                 | -2                  |  853                |  856                |  -3                 | B6                  |   71                | N657JB              | JFK                 | TPA                 | 158                 | 1005                | 6                   |  0                  | 2013-01-01 06:00:00 | \n",
       "| 2013                | 1                   | 1                   | 741                 | 745                 | -4                  | 1038                | 1036                |   2                 | B6                  |  983                | N633JB              | LGA                 | TPA                 | 158                 | 1010                | 7                   | 45                  | 2013-01-01 07:00:00 | \n",
       "| 2013                | 1                   | 1                   | 759                 | 800                 | -1                  | 1057                | 1127                | -30                 | DL                  | 1843                | N955DL              | JFK                 | MIA                 | 158                 | 1089                | 8                   |  0                  | 2013-01-01 08:00:00 | \n",
       "| 2013                | 1                   | 1                   | 856                 | 900                 | -4                  | 1222                | 1232                | -10                 | DL                  | 2143                | N970DL              | LGA                 | MIA                 | 158                 | 1096                | 9                   |  0                  | 2013-01-01 09:00:00 | \n",
       "| 2013                | 1                   | 1                   | 904                 | 906                 | -2                  | 1207                | 1226                | -19                 | UA                  | 1401                | N77525              | EWR                 | MIA                 | 158                 | 1085                | 9                   |  6                  | 2013-01-01 09:00:00 | \n",
       "\n",
       "\n"
      ],
      "text/plain": [
       "  year month day dep_time sched_dep_time dep_delay arr_time sched_arr_time\n",
       "1 2013 1     1   555      600            -5         913      854          \n",
       "2 2013 1     1   558      600            -2         853      856          \n",
       "3 2013 1     1   741      745            -4        1038     1036          \n",
       "4 2013 1     1   759      800            -1        1057     1127          \n",
       "5 2013 1     1   856      900            -4        1222     1232          \n",
       "6 2013 1     1   904      906            -2        1207     1226          \n",
       "  arr_delay carrier flight tailnum origin dest air_time distance hour minute\n",
       "1  19       B6       507   N516JB  EWR    FLL  158      1065     6     0    \n",
       "2  -3       B6        71   N657JB  JFK    TPA  158      1005     6     0    \n",
       "3   2       B6       983   N633JB  LGA    TPA  158      1010     7    45    \n",
       "4 -30       DL      1843   N955DL  JFK    MIA  158      1089     8     0    \n",
       "5 -10       DL      2143   N970DL  LGA    MIA  158      1096     9     0    \n",
       "6 -19       UA      1401   N77525  EWR    MIA  158      1085     9     6    \n",
       "  time_hour          \n",
       "1 2013-01-01 06:00:00\n",
       "2 2013-01-01 06:00:00\n",
       "3 2013-01-01 07:00:00\n",
       "4 2013-01-01 08:00:00\n",
       "5 2013-01-01 09:00:00\n",
       "6 2013-01-01 09:00:00"
      ]
     },
     "metadata": {},
     "output_type": "display_data"
    }
   ],
   "source": [
    "head(dplyr::filter(flights, year == 2013, air_time == 158))"
   ]
  },
  {
   "cell_type": "markdown",
   "metadata": {},
   "source": [
    "### dplyr functions are NOT modifiers"
   ]
  },
  {
   "cell_type": "code",
   "execution_count": 29,
   "metadata": {},
   "outputs": [],
   "source": [
    "Filtered_data <- dplyr::filter(flights, year == 2013, air_time == 158)"
   ]
  },
  {
   "cell_type": "code",
   "execution_count": 39,
   "metadata": {},
   "outputs": [
    {
     "data": {
      "text/html": [
       "<table>\n",
       "<thead><tr><th scope=col>year</th><th scope=col>month</th><th scope=col>day</th><th scope=col>dep_time</th><th scope=col>sched_dep_time</th><th scope=col>dep_delay</th><th scope=col>arr_time</th><th scope=col>sched_arr_time</th><th scope=col>arr_delay</th><th scope=col>carrier</th><th scope=col>flight</th><th scope=col>tailnum</th><th scope=col>origin</th><th scope=col>dest</th><th scope=col>air_time</th><th scope=col>distance</th><th scope=col>hour</th><th scope=col>minute</th><th scope=col>time_hour</th></tr></thead>\n",
       "<tbody>\n",
       "\t<tr><td>2013               </td><td>1                  </td><td>1                  </td><td>555                </td><td>600                </td><td>-5                 </td><td> 913               </td><td> 854               </td><td> 19                </td><td>B6                 </td><td> 507               </td><td>N516JB             </td><td>EWR                </td><td>FLL                </td><td>158                </td><td>1065               </td><td>6                  </td><td> 0                 </td><td>2013-01-01 06:00:00</td></tr>\n",
       "\t<tr><td>2013               </td><td>1                  </td><td>1                  </td><td>558                </td><td>600                </td><td>-2                 </td><td> 853               </td><td> 856               </td><td> -3                </td><td>B6                 </td><td>  71               </td><td>N657JB             </td><td>JFK                </td><td>TPA                </td><td>158                </td><td>1005               </td><td>6                  </td><td> 0                 </td><td>2013-01-01 06:00:00</td></tr>\n",
       "\t<tr><td>2013               </td><td>1                  </td><td>1                  </td><td>741                </td><td>745                </td><td>-4                 </td><td>1038               </td><td>1036               </td><td>  2                </td><td>B6                 </td><td> 983               </td><td>N633JB             </td><td>LGA                </td><td>TPA                </td><td>158                </td><td>1010               </td><td>7                  </td><td>45                 </td><td>2013-01-01 07:00:00</td></tr>\n",
       "\t<tr><td>2013               </td><td>1                  </td><td>1                  </td><td>759                </td><td>800                </td><td>-1                 </td><td>1057               </td><td>1127               </td><td>-30                </td><td>DL                 </td><td>1843               </td><td>N955DL             </td><td>JFK                </td><td>MIA                </td><td>158                </td><td>1089               </td><td>8                  </td><td> 0                 </td><td>2013-01-01 08:00:00</td></tr>\n",
       "\t<tr><td>2013               </td><td>1                  </td><td>1                  </td><td>856                </td><td>900                </td><td>-4                 </td><td>1222               </td><td>1232               </td><td>-10                </td><td>DL                 </td><td>2143               </td><td>N970DL             </td><td>LGA                </td><td>MIA                </td><td>158                </td><td>1096               </td><td>9                  </td><td> 0                 </td><td>2013-01-01 09:00:00</td></tr>\n",
       "\t<tr><td>2013               </td><td>1                  </td><td>1                  </td><td>904                </td><td>906                </td><td>-2                 </td><td>1207               </td><td>1226               </td><td>-19                </td><td>UA                 </td><td>1401               </td><td>N77525             </td><td>EWR                </td><td>MIA                </td><td>158                </td><td>1085               </td><td>9                  </td><td> 6                 </td><td>2013-01-01 09:00:00</td></tr>\n",
       "</tbody>\n",
       "</table>\n"
      ],
      "text/latex": [
       "\\begin{tabular}{r|lllllllllllllllllll}\n",
       " year & month & day & dep\\_time & sched\\_dep\\_time & dep\\_delay & arr\\_time & sched\\_arr\\_time & arr\\_delay & carrier & flight & tailnum & origin & dest & air\\_time & distance & hour & minute & time\\_hour\\\\\n",
       "\\hline\n",
       "\t 2013                & 1                   & 1                   & 555                 & 600                 & -5                  &  913                &  854                &  19                 & B6                  &  507                & N516JB              & EWR                 & FLL                 & 158                 & 1065                & 6                   &  0                  & 2013-01-01 06:00:00\\\\\n",
       "\t 2013                & 1                   & 1                   & 558                 & 600                 & -2                  &  853                &  856                &  -3                 & B6                  &   71                & N657JB              & JFK                 & TPA                 & 158                 & 1005                & 6                   &  0                  & 2013-01-01 06:00:00\\\\\n",
       "\t 2013                & 1                   & 1                   & 741                 & 745                 & -4                  & 1038                & 1036                &   2                 & B6                  &  983                & N633JB              & LGA                 & TPA                 & 158                 & 1010                & 7                   & 45                  & 2013-01-01 07:00:00\\\\\n",
       "\t 2013                & 1                   & 1                   & 759                 & 800                 & -1                  & 1057                & 1127                & -30                 & DL                  & 1843                & N955DL              & JFK                 & MIA                 & 158                 & 1089                & 8                   &  0                  & 2013-01-01 08:00:00\\\\\n",
       "\t 2013                & 1                   & 1                   & 856                 & 900                 & -4                  & 1222                & 1232                & -10                 & DL                  & 2143                & N970DL              & LGA                 & MIA                 & 158                 & 1096                & 9                   &  0                  & 2013-01-01 09:00:00\\\\\n",
       "\t 2013                & 1                   & 1                   & 904                 & 906                 & -2                  & 1207                & 1226                & -19                 & UA                  & 1401                & N77525              & EWR                 & MIA                 & 158                 & 1085                & 9                   &  6                  & 2013-01-01 09:00:00\\\\\n",
       "\\end{tabular}\n"
      ],
      "text/markdown": [
       "\n",
       "year | month | day | dep_time | sched_dep_time | dep_delay | arr_time | sched_arr_time | arr_delay | carrier | flight | tailnum | origin | dest | air_time | distance | hour | minute | time_hour | \n",
       "|---|---|---|---|---|---|\n",
       "| 2013                | 1                   | 1                   | 555                 | 600                 | -5                  |  913                |  854                |  19                 | B6                  |  507                | N516JB              | EWR                 | FLL                 | 158                 | 1065                | 6                   |  0                  | 2013-01-01 06:00:00 | \n",
       "| 2013                | 1                   | 1                   | 558                 | 600                 | -2                  |  853                |  856                |  -3                 | B6                  |   71                | N657JB              | JFK                 | TPA                 | 158                 | 1005                | 6                   |  0                  | 2013-01-01 06:00:00 | \n",
       "| 2013                | 1                   | 1                   | 741                 | 745                 | -4                  | 1038                | 1036                |   2                 | B6                  |  983                | N633JB              | LGA                 | TPA                 | 158                 | 1010                | 7                   | 45                  | 2013-01-01 07:00:00 | \n",
       "| 2013                | 1                   | 1                   | 759                 | 800                 | -1                  | 1057                | 1127                | -30                 | DL                  | 1843                | N955DL              | JFK                 | MIA                 | 158                 | 1089                | 8                   |  0                  | 2013-01-01 08:00:00 | \n",
       "| 2013                | 1                   | 1                   | 856                 | 900                 | -4                  | 1222                | 1232                | -10                 | DL                  | 2143                | N970DL              | LGA                 | MIA                 | 158                 | 1096                | 9                   |  0                  | 2013-01-01 09:00:00 | \n",
       "| 2013                | 1                   | 1                   | 904                 | 906                 | -2                  | 1207                | 1226                | -19                 | UA                  | 1401                | N77525              | EWR                 | MIA                 | 158                 | 1085                | 9                   |  6                  | 2013-01-01 09:00:00 | \n",
       "\n",
       "\n"
      ],
      "text/plain": [
       "  year month day dep_time sched_dep_time dep_delay arr_time sched_arr_time\n",
       "1 2013 1     1   555      600            -5         913      854          \n",
       "2 2013 1     1   558      600            -2         853      856          \n",
       "3 2013 1     1   741      745            -4        1038     1036          \n",
       "4 2013 1     1   759      800            -1        1057     1127          \n",
       "5 2013 1     1   856      900            -4        1222     1232          \n",
       "6 2013 1     1   904      906            -2        1207     1226          \n",
       "  arr_delay carrier flight tailnum origin dest air_time distance hour minute\n",
       "1  19       B6       507   N516JB  EWR    FLL  158      1065     6     0    \n",
       "2  -3       B6        71   N657JB  JFK    TPA  158      1005     6     0    \n",
       "3   2       B6       983   N633JB  LGA    TPA  158      1010     7    45    \n",
       "4 -30       DL      1843   N955DL  JFK    MIA  158      1089     8     0    \n",
       "5 -10       DL      2143   N970DL  LGA    MIA  158      1096     9     0    \n",
       "6 -19       UA      1401   N77525  EWR    MIA  158      1085     9     6    \n",
       "  time_hour          \n",
       "1 2013-01-01 06:00:00\n",
       "2 2013-01-01 06:00:00\n",
       "3 2013-01-01 07:00:00\n",
       "4 2013-01-01 08:00:00\n",
       "5 2013-01-01 09:00:00\n",
       "6 2013-01-01 09:00:00"
      ]
     },
     "metadata": {},
     "output_type": "display_data"
    }
   ],
   "source": [
    "#To print and save data\n",
    "head((Filtered_data <-dplyr::filter(flights, year == 2013, air_time == 158)))"
   ]
  },
  {
   "cell_type": "markdown",
   "metadata": {},
   "source": [
    "# Comparing numbers\n",
    "\n",
    "```\n",
    "\n",
    "& - XY\n",
    "| - X U Y\n",
    "! - X^c\n",
    "near(X,Y) - for comparing float\n",
    "== - X==Y\n",
    "xor - X U Y - XY \n",
    "%in% - x %in% (a,b,c,d)\n",
    "!(X U Y) = !X!Y\n",
    "```"
   ]
  },
  {
   "cell_type": "code",
   "execution_count": 35,
   "metadata": {},
   "outputs": [
    {
     "data": {
      "text/html": [
       "<ol class=list-inline>\n",
       "\t<li>TRUE</li>\n",
       "\t<li>TRUE</li>\n",
       "\t<li>FALSE</li>\n",
       "\t<li>FALSE</li>\n",
       "</ol>\n"
      ],
      "text/latex": [
       "\\begin{enumerate*}\n",
       "\\item TRUE\n",
       "\\item TRUE\n",
       "\\item FALSE\n",
       "\\item FALSE\n",
       "\\end{enumerate*}\n"
      ],
      "text/markdown": [
       "1. TRUE\n",
       "2. TRUE\n",
       "3. FALSE\n",
       "4. FALSE\n",
       "\n",
       "\n"
      ],
      "text/plain": [
       "[1]  TRUE  TRUE FALSE FALSE"
      ]
     },
     "metadata": {},
     "output_type": "display_data"
    }
   ],
   "source": [
    "c(2==2,sqrt(4)==2,sqrt(4.1)==2, near(sqrt(4.1),2))"
   ]
  },
  {
   "cell_type": "code",
   "execution_count": 57,
   "metadata": {},
   "outputs": [
    {
     "data": {
      "text/html": [
       "<ol class=list-inline>\n",
       "\t<li>'FALSE'</li>\n",
       "\t<li>'VS'</li>\n",
       "\t<li>'TRUE'</li>\n",
       "</ol>\n"
      ],
      "text/latex": [
       "\\begin{enumerate*}\n",
       "\\item 'FALSE'\n",
       "\\item 'VS'\n",
       "\\item 'TRUE'\n",
       "\\end{enumerate*}\n"
      ],
      "text/markdown": [
       "1. 'FALSE'\n",
       "2. 'VS'\n",
       "3. 'TRUE'\n",
       "\n",
       "\n"
      ],
      "text/plain": [
       "[1] \"FALSE\" \"VS\"    \"TRUE\" "
      ]
     },
     "metadata": {},
     "output_type": "display_data"
    }
   ],
   "source": [
    "c(near(2.0000001,2),\"VS\",near(2.00000001,2))"
   ]
  },
  {
   "cell_type": "code",
   "execution_count": 49,
   "metadata": {
    "collapsed": true
   },
   "outputs": [
    {
     "data": {
      "text/html": [
       "<table>\n",
       "<thead><tr><th scope=col>year</th><th scope=col>month</th><th scope=col>day</th><th scope=col>dep_time</th><th scope=col>sched_dep_time</th><th scope=col>dep_delay</th><th scope=col>arr_time</th><th scope=col>sched_arr_time</th><th scope=col>arr_delay</th><th scope=col>carrier</th><th scope=col>flight</th><th scope=col>tailnum</th><th scope=col>origin</th><th scope=col>dest</th><th scope=col>air_time</th><th scope=col>distance</th><th scope=col>hour</th><th scope=col>minute</th><th scope=col>time_hour</th></tr></thead>\n",
       "<tbody>\n",
       "\t<tr><td>2013               </td><td> 1                 </td><td> 1                 </td><td>517                </td><td>515                </td><td> 2                 </td><td>830                </td><td>819                </td><td> 11                </td><td>UA                 </td><td>1545               </td><td>N14228             </td><td>EWR                </td><td>IAH                </td><td>227                </td><td>1400               </td><td>5                  </td><td>15                 </td><td>2013-01-01 05:00:00</td></tr>\n",
       "\t<tr><td>2013               </td><td>10                 </td><td>20                 </td><td>517                </td><td>520                </td><td>-3                 </td><td>754                </td><td>803                </td><td> -9                </td><td>UA                 </td><td>1096               </td><td>N78509             </td><td>EWR                </td><td>IAH                </td><td>200                </td><td>1400               </td><td>5                  </td><td>20                 </td><td>2013-10-20 05:00:00</td></tr>\n",
       "\t<tr><td>2013               </td><td>11                 </td><td> 2                 </td><td>517                </td><td>515                </td><td> 2                 </td><td>806                </td><td>755                </td><td> 11                </td><td>UA                 </td><td> 598               </td><td>N536UA             </td><td>EWR                </td><td>IAH                </td><td>201                </td><td>1400               </td><td>5                  </td><td>15                 </td><td>2013-11-02 05:00:00</td></tr>\n",
       "\t<tr><td>2013               </td><td>11                 </td><td>10                 </td><td>517                </td><td>515                </td><td> 2                 </td><td>749                </td><td>806                </td><td>-17                </td><td>UA                 </td><td> 817               </td><td>N487UA             </td><td>EWR                </td><td>IAH                </td><td>196                </td><td>1400               </td><td>5                  </td><td>15                 </td><td>2013-11-10 05:00:00</td></tr>\n",
       "\t<tr><td>2013               </td><td>12                 </td><td> 6                 </td><td>517                </td><td>515                </td><td> 2                 </td><td>813                </td><td>814                </td><td> -1                </td><td>UA                 </td><td>1012               </td><td>N18220             </td><td>EWR                </td><td>IAH                </td><td>209                </td><td>1400               </td><td>5                  </td><td>15                 </td><td>2013-12-06 05:00:00</td></tr>\n",
       "\t<tr><td>2013               </td><td>12                 </td><td>11                 </td><td>517                </td><td>515                </td><td> 2                 </td><td>825                </td><td>814                </td><td> 11                </td><td>UA                 </td><td>1014               </td><td>N77295             </td><td>EWR                </td><td>IAH                </td><td>228                </td><td>1400               </td><td>5                  </td><td>15                 </td><td>2013-12-11 05:00:00</td></tr>\n",
       "</tbody>\n",
       "</table>\n"
      ],
      "text/latex": [
       "\\begin{tabular}{r|lllllllllllllllllll}\n",
       " year & month & day & dep\\_time & sched\\_dep\\_time & dep\\_delay & arr\\_time & sched\\_arr\\_time & arr\\_delay & carrier & flight & tailnum & origin & dest & air\\_time & distance & hour & minute & time\\_hour\\\\\n",
       "\\hline\n",
       "\t 2013                &  1                  &  1                  & 517                 & 515                 &  2                  & 830                 & 819                 &  11                 & UA                  & 1545                & N14228              & EWR                 & IAH                 & 227                 & 1400                & 5                   & 15                  & 2013-01-01 05:00:00\\\\\n",
       "\t 2013                & 10                  & 20                  & 517                 & 520                 & -3                  & 754                 & 803                 &  -9                 & UA                  & 1096                & N78509              & EWR                 & IAH                 & 200                 & 1400                & 5                   & 20                  & 2013-10-20 05:00:00\\\\\n",
       "\t 2013                & 11                  &  2                  & 517                 & 515                 &  2                  & 806                 & 755                 &  11                 & UA                  &  598                & N536UA              & EWR                 & IAH                 & 201                 & 1400                & 5                   & 15                  & 2013-11-02 05:00:00\\\\\n",
       "\t 2013                & 11                  & 10                  & 517                 & 515                 &  2                  & 749                 & 806                 & -17                 & UA                  &  817                & N487UA              & EWR                 & IAH                 & 196                 & 1400                & 5                   & 15                  & 2013-11-10 05:00:00\\\\\n",
       "\t 2013                & 12                  &  6                  & 517                 & 515                 &  2                  & 813                 & 814                 &  -1                 & UA                  & 1012                & N18220              & EWR                 & IAH                 & 209                 & 1400                & 5                   & 15                  & 2013-12-06 05:00:00\\\\\n",
       "\t 2013                & 12                  & 11                  & 517                 & 515                 &  2                  & 825                 & 814                 &  11                 & UA                  & 1014                & N77295              & EWR                 & IAH                 & 228                 & 1400                & 5                   & 15                  & 2013-12-11 05:00:00\\\\\n",
       "\\end{tabular}\n"
      ],
      "text/markdown": [
       "\n",
       "year | month | day | dep_time | sched_dep_time | dep_delay | arr_time | sched_arr_time | arr_delay | carrier | flight | tailnum | origin | dest | air_time | distance | hour | minute | time_hour | \n",
       "|---|---|---|---|---|---|\n",
       "| 2013                |  1                  |  1                  | 517                 | 515                 |  2                  | 830                 | 819                 |  11                 | UA                  | 1545                | N14228              | EWR                 | IAH                 | 227                 | 1400                | 5                   | 15                  | 2013-01-01 05:00:00 | \n",
       "| 2013                | 10                  | 20                  | 517                 | 520                 | -3                  | 754                 | 803                 |  -9                 | UA                  | 1096                | N78509              | EWR                 | IAH                 | 200                 | 1400                | 5                   | 20                  | 2013-10-20 05:00:00 | \n",
       "| 2013                | 11                  |  2                  | 517                 | 515                 |  2                  | 806                 | 755                 |  11                 | UA                  |  598                | N536UA              | EWR                 | IAH                 | 201                 | 1400                | 5                   | 15                  | 2013-11-02 05:00:00 | \n",
       "| 2013                | 11                  | 10                  | 517                 | 515                 |  2                  | 749                 | 806                 | -17                 | UA                  |  817                | N487UA              | EWR                 | IAH                 | 196                 | 1400                | 5                   | 15                  | 2013-11-10 05:00:00 | \n",
       "| 2013                | 12                  |  6                  | 517                 | 515                 |  2                  | 813                 | 814                 |  -1                 | UA                  | 1012                | N18220              | EWR                 | IAH                 | 209                 | 1400                | 5                   | 15                  | 2013-12-06 05:00:00 | \n",
       "| 2013                | 12                  | 11                  | 517                 | 515                 |  2                  | 825                 | 814                 |  11                 | UA                  | 1014                | N77295              | EWR                 | IAH                 | 228                 | 1400                | 5                   | 15                  | 2013-12-11 05:00:00 | \n",
       "\n",
       "\n"
      ],
      "text/plain": [
       "  year month day dep_time sched_dep_time dep_delay arr_time sched_arr_time\n",
       "1 2013  1     1  517      515             2        830      819           \n",
       "2 2013 10    20  517      520            -3        754      803           \n",
       "3 2013 11     2  517      515             2        806      755           \n",
       "4 2013 11    10  517      515             2        749      806           \n",
       "5 2013 12     6  517      515             2        813      814           \n",
       "6 2013 12    11  517      515             2        825      814           \n",
       "  arr_delay carrier flight tailnum origin dest air_time distance hour minute\n",
       "1  11       UA      1545   N14228  EWR    IAH  227      1400     5    15    \n",
       "2  -9       UA      1096   N78509  EWR    IAH  200      1400     5    20    \n",
       "3  11       UA       598   N536UA  EWR    IAH  201      1400     5    15    \n",
       "4 -17       UA       817   N487UA  EWR    IAH  196      1400     5    15    \n",
       "5  -1       UA      1012   N18220  EWR    IAH  209      1400     5    15    \n",
       "6  11       UA      1014   N77295  EWR    IAH  228      1400     5    15    \n",
       "  time_hour          \n",
       "1 2013-01-01 05:00:00\n",
       "2 2013-10-20 05:00:00\n",
       "3 2013-11-02 05:00:00\n",
       "4 2013-11-10 05:00:00\n",
       "5 2013-12-06 05:00:00\n",
       "6 2013-12-11 05:00:00"
      ]
     },
     "metadata": {},
     "output_type": "display_data"
    }
   ],
   "source": [
    "head(filter(flights,year==2013 & dep_time == 517))"
   ]
  },
  {
   "cell_type": "code",
   "execution_count": 61,
   "metadata": {},
   "outputs": [
    {
     "data": {
      "text/html": [
       "&lt;NA&gt;"
      ],
      "text/latex": [
       "<NA>"
      ],
      "text/markdown": [
       "&lt;NA&gt;"
      ],
      "text/plain": [
       "[1] NA"
      ]
     },
     "metadata": {},
     "output_type": "display_data"
    }
   ],
   "source": [
    "NA >5"
   ]
  },
  {
   "cell_type": "code",
   "execution_count": 86,
   "metadata": {},
   "outputs": [
    {
     "data": {
      "text/html": [
       "&lt;NA&gt;"
      ],
      "text/latex": [
       "<NA>"
      ],
      "text/markdown": [
       "&lt;NA&gt;"
      ],
      "text/plain": [
       "[1] NA"
      ]
     },
     "metadata": {},
     "output_type": "display_data"
    }
   ],
   "source": [
    "X<- NA; Y<- NA; X==Y;"
   ]
  },
  {
   "cell_type": "code",
   "execution_count": 64,
   "metadata": {},
   "outputs": [
    {
     "data": {
      "text/html": [
       "TRUE"
      ],
      "text/latex": [
       "TRUE"
      ],
      "text/markdown": [
       "TRUE"
      ],
      "text/plain": [
       "[1] TRUE"
      ]
     },
     "metadata": {},
     "output_type": "display_data"
    }
   ],
   "source": [
    "is.na(X)"
   ]
  },
  {
   "cell_type": "code",
   "execution_count": 87,
   "metadata": {},
   "outputs": [],
   "source": [
    "X<- tibble(x= c(X,Y,1,2,10,NA))"
   ]
  },
  {
   "cell_type": "code",
   "execution_count": 88,
   "metadata": {},
   "outputs": [
    {
     "data": {
      "text/html": [
       "<table>\n",
       "<thead><tr><th scope=col>x</th></tr></thead>\n",
       "<tbody>\n",
       "\t<tr><td>NA</td></tr>\n",
       "\t<tr><td>NA</td></tr>\n",
       "\t<tr><td>NA</td></tr>\n",
       "</tbody>\n",
       "</table>\n"
      ],
      "text/latex": [
       "\\begin{tabular}{r|l}\n",
       " x\\\\\n",
       "\\hline\n",
       "\t NA\\\\\n",
       "\t NA\\\\\n",
       "\t NA\\\\\n",
       "\\end{tabular}\n"
      ],
      "text/markdown": [
       "\n",
       "x | \n",
       "|---|---|---|\n",
       "| NA | \n",
       "| NA | \n",
       "| NA | \n",
       "\n",
       "\n"
      ],
      "text/plain": [
       "  x \n",
       "1 NA\n",
       "2 NA\n",
       "3 NA"
      ]
     },
     "metadata": {},
     "output_type": "display_data"
    }
   ],
   "source": [
    "filter(X,is.na(x))"
   ]
  },
  {
   "cell_type": "code",
   "execution_count": 90,
   "metadata": {},
   "outputs": [
    {
     "data": {
      "text/html": [
       "<table>\n",
       "<thead><tr><th scope=col>x</th></tr></thead>\n",
       "<tbody>\n",
       "\t<tr><td>NA</td></tr>\n",
       "\t<tr><td>NA</td></tr>\n",
       "\t<tr><td>10</td></tr>\n",
       "\t<tr><td>NA</td></tr>\n",
       "</tbody>\n",
       "</table>\n"
      ],
      "text/latex": [
       "\\begin{tabular}{r|l}\n",
       " x\\\\\n",
       "\\hline\n",
       "\t NA\\\\\n",
       "\t NA\\\\\n",
       "\t 10\\\\\n",
       "\t NA\\\\\n",
       "\\end{tabular}\n"
      ],
      "text/markdown": [
       "\n",
       "x | \n",
       "|---|---|---|---|\n",
       "| NA | \n",
       "| NA | \n",
       "| 10 | \n",
       "| NA | \n",
       "\n",
       "\n"
      ],
      "text/plain": [
       "  x \n",
       "1 NA\n",
       "2 NA\n",
       "3 10\n",
       "4 NA"
      ]
     },
     "metadata": {},
     "output_type": "display_data"
    }
   ],
   "source": [
    "filter(X, is.na(x) | x==10)"
   ]
  },
  {
   "cell_type": "markdown",
   "metadata": {},
   "source": [
    "### 5.2.4 Exercises\n",
    "\n",
    "\n",
    "Find all flights that\n",
    "* Had an arrival delay of two or more hours\n",
    "* Flew to Houston (IAH or HOU)\n",
    "* Departed in summer (July, August, and September)\n",
    "* Arrived more than two hours late, but didn’t leave late\n",
    "* Were delayed by at least an hour, but made up over 30 minutes in flight\n",
    "* Departed between midnight and 6am (inclusive)\n",
    "* Another useful dplyr filtering helper is between(). What does it do? Can you use it to simplify the code needed to answer  the previous challenges?\n",
    "* How many flights have a missing dep_time? What other variables are missing? What might these rows represent?\n",
    "* Why is NA ^ 0 not missing? Why is NA | TRUE not missing? Why is FALSE & NA not missing? Can you figure out the general     rule? (NA * 0 is a tricky counterexample!)\n"
   ]
  },
  {
   "cell_type": "code",
   "execution_count": 47,
   "metadata": {
    "collapsed": true
   },
   "outputs": [
    {
     "data": {
      "text/html": [
       "<table>\n",
       "<thead><tr><th scope=col>year</th><th scope=col>month</th><th scope=col>day</th><th scope=col>dep_time</th><th scope=col>sched_dep_time</th><th scope=col>dep_delay</th><th scope=col>arr_time</th><th scope=col>sched_arr_time</th><th scope=col>arr_delay</th><th scope=col>carrier</th><th scope=col>flight</th><th scope=col>tailnum</th><th scope=col>origin</th><th scope=col>dest</th><th scope=col>air_time</th><th scope=col>distance</th><th scope=col>hour</th><th scope=col>minute</th><th scope=col>time_hour</th></tr></thead>\n",
       "<tbody>\n",
       "\t<tr><td>2013               </td><td>1                  </td><td>1                  </td><td> 811               </td><td> 630               </td><td>101                </td><td>1047               </td><td> 830               </td><td>137                </td><td>MQ                 </td><td>4576               </td><td>N531MQ             </td><td>LGA                </td><td>CLT                </td><td>118                </td><td> 544               </td><td> 6                 </td><td>30                 </td><td>2013-01-01 06:00:00</td></tr>\n",
       "\t<tr><td>2013               </td><td>1                  </td><td>1                  </td><td> 848               </td><td>1835               </td><td>853                </td><td>1001               </td><td>1950               </td><td>851                </td><td>MQ                 </td><td>3944               </td><td>N942MQ             </td><td>JFK                </td><td>BWI                </td><td> 41                </td><td> 184               </td><td>18                 </td><td>35                 </td><td>2013-01-01 18:00:00</td></tr>\n",
       "\t<tr><td>2013               </td><td>1                  </td><td>1                  </td><td> 957               </td><td> 733               </td><td>144                </td><td>1056               </td><td> 853               </td><td>123                </td><td>UA                 </td><td> 856               </td><td>N534UA             </td><td>EWR                </td><td>BOS                </td><td> 37                </td><td> 200               </td><td> 7                 </td><td>33                 </td><td>2013-01-01 07:00:00</td></tr>\n",
       "\t<tr><td>2013               </td><td>1                  </td><td>1                  </td><td>1114               </td><td> 900               </td><td>134                </td><td>1447               </td><td>1222               </td><td>145                </td><td>UA                 </td><td>1086               </td><td>N76502             </td><td>LGA                </td><td>IAH                </td><td>248                </td><td>1416               </td><td> 9                 </td><td> 0                 </td><td>2013-01-01 09:00:00</td></tr>\n",
       "\t<tr><td>2013               </td><td>1                  </td><td>1                  </td><td>1505               </td><td>1310               </td><td>115                </td><td>1638               </td><td>1431               </td><td>127                </td><td>EV                 </td><td>4497               </td><td>N17984             </td><td>EWR                </td><td>RIC                </td><td> 63                </td><td> 277               </td><td>13                 </td><td>10                 </td><td>2013-01-01 13:00:00</td></tr>\n",
       "\t<tr><td>2013               </td><td>1                  </td><td>1                  </td><td>1525               </td><td>1340               </td><td>105                </td><td>1831               </td><td>1626               </td><td>125                </td><td>B6                 </td><td> 525               </td><td>N231JB             </td><td>EWR                </td><td>MCO                </td><td>152                </td><td> 937               </td><td>13                 </td><td>40                 </td><td>2013-01-01 13:00:00</td></tr>\n",
       "</tbody>\n",
       "</table>\n"
      ],
      "text/latex": [
       "\\begin{tabular}{r|lllllllllllllllllll}\n",
       " year & month & day & dep\\_time & sched\\_dep\\_time & dep\\_delay & arr\\_time & sched\\_arr\\_time & arr\\_delay & carrier & flight & tailnum & origin & dest & air\\_time & distance & hour & minute & time\\_hour\\\\\n",
       "\\hline\n",
       "\t 2013                & 1                   & 1                   &  811                &  630                & 101                 & 1047                &  830                & 137                 & MQ                  & 4576                & N531MQ              & LGA                 & CLT                 & 118                 &  544                &  6                  & 30                  & 2013-01-01 06:00:00\\\\\n",
       "\t 2013                & 1                   & 1                   &  848                & 1835                & 853                 & 1001                & 1950                & 851                 & MQ                  & 3944                & N942MQ              & JFK                 & BWI                 &  41                 &  184                & 18                  & 35                  & 2013-01-01 18:00:00\\\\\n",
       "\t 2013                & 1                   & 1                   &  957                &  733                & 144                 & 1056                &  853                & 123                 & UA                  &  856                & N534UA              & EWR                 & BOS                 &  37                 &  200                &  7                  & 33                  & 2013-01-01 07:00:00\\\\\n",
       "\t 2013                & 1                   & 1                   & 1114                &  900                & 134                 & 1447                & 1222                & 145                 & UA                  & 1086                & N76502              & LGA                 & IAH                 & 248                 & 1416                &  9                  &  0                  & 2013-01-01 09:00:00\\\\\n",
       "\t 2013                & 1                   & 1                   & 1505                & 1310                & 115                 & 1638                & 1431                & 127                 & EV                  & 4497                & N17984              & EWR                 & RIC                 &  63                 &  277                & 13                  & 10                  & 2013-01-01 13:00:00\\\\\n",
       "\t 2013                & 1                   & 1                   & 1525                & 1340                & 105                 & 1831                & 1626                & 125                 & B6                  &  525                & N231JB              & EWR                 & MCO                 & 152                 &  937                & 13                  & 40                  & 2013-01-01 13:00:00\\\\\n",
       "\\end{tabular}\n"
      ],
      "text/markdown": [
       "\n",
       "year | month | day | dep_time | sched_dep_time | dep_delay | arr_time | sched_arr_time | arr_delay | carrier | flight | tailnum | origin | dest | air_time | distance | hour | minute | time_hour | \n",
       "|---|---|---|---|---|---|\n",
       "| 2013                | 1                   | 1                   |  811                |  630                | 101                 | 1047                |  830                | 137                 | MQ                  | 4576                | N531MQ              | LGA                 | CLT                 | 118                 |  544                |  6                  | 30                  | 2013-01-01 06:00:00 | \n",
       "| 2013                | 1                   | 1                   |  848                | 1835                | 853                 | 1001                | 1950                | 851                 | MQ                  | 3944                | N942MQ              | JFK                 | BWI                 |  41                 |  184                | 18                  | 35                  | 2013-01-01 18:00:00 | \n",
       "| 2013                | 1                   | 1                   |  957                |  733                | 144                 | 1056                |  853                | 123                 | UA                  |  856                | N534UA              | EWR                 | BOS                 |  37                 |  200                |  7                  | 33                  | 2013-01-01 07:00:00 | \n",
       "| 2013                | 1                   | 1                   | 1114                |  900                | 134                 | 1447                | 1222                | 145                 | UA                  | 1086                | N76502              | LGA                 | IAH                 | 248                 | 1416                |  9                  |  0                  | 2013-01-01 09:00:00 | \n",
       "| 2013                | 1                   | 1                   | 1505                | 1310                | 115                 | 1638                | 1431                | 127                 | EV                  | 4497                | N17984              | EWR                 | RIC                 |  63                 |  277                | 13                  | 10                  | 2013-01-01 13:00:00 | \n",
       "| 2013                | 1                   | 1                   | 1525                | 1340                | 105                 | 1831                | 1626                | 125                 | B6                  |  525                | N231JB              | EWR                 | MCO                 | 152                 |  937                | 13                  | 40                  | 2013-01-01 13:00:00 | \n",
       "\n",
       "\n"
      ],
      "text/plain": [
       "  year month day dep_time sched_dep_time dep_delay arr_time sched_arr_time\n",
       "1 2013 1     1    811      630           101       1047      830          \n",
       "2 2013 1     1    848     1835           853       1001     1950          \n",
       "3 2013 1     1    957      733           144       1056      853          \n",
       "4 2013 1     1   1114      900           134       1447     1222          \n",
       "5 2013 1     1   1505     1310           115       1638     1431          \n",
       "6 2013 1     1   1525     1340           105       1831     1626          \n",
       "  arr_delay carrier flight tailnum origin dest air_time distance hour minute\n",
       "1 137       MQ      4576   N531MQ  LGA    CLT  118       544      6   30    \n",
       "2 851       MQ      3944   N942MQ  JFK    BWI   41       184     18   35    \n",
       "3 123       UA       856   N534UA  EWR    BOS   37       200      7   33    \n",
       "4 145       UA      1086   N76502  LGA    IAH  248      1416      9    0    \n",
       "5 127       EV      4497   N17984  EWR    RIC   63       277     13   10    \n",
       "6 125       B6       525   N231JB  EWR    MCO  152       937     13   40    \n",
       "  time_hour          \n",
       "1 2013-01-01 06:00:00\n",
       "2 2013-01-01 18:00:00\n",
       "3 2013-01-01 07:00:00\n",
       "4 2013-01-01 09:00:00\n",
       "5 2013-01-01 13:00:00\n",
       "6 2013-01-01 13:00:00"
      ]
     },
     "metadata": {},
     "output_type": "display_data"
    }
   ],
   "source": [
    "head(filter(flights, arr_delay/60>2))"
   ]
  },
  {
   "cell_type": "code",
   "execution_count": 46,
   "metadata": {
    "collapsed": true
   },
   "outputs": [
    {
     "data": {
      "text/html": [
       "<table>\n",
       "<thead><tr><th scope=col>year</th><th scope=col>month</th><th scope=col>day</th><th scope=col>dep_time</th><th scope=col>sched_dep_time</th><th scope=col>dep_delay</th><th scope=col>arr_time</th><th scope=col>sched_arr_time</th><th scope=col>arr_delay</th><th scope=col>carrier</th><th scope=col>flight</th><th scope=col>tailnum</th><th scope=col>origin</th><th scope=col>dest</th><th scope=col>air_time</th><th scope=col>distance</th><th scope=col>hour</th><th scope=col>minute</th><th scope=col>time_hour</th></tr></thead>\n",
       "<tbody>\n",
       "\t<tr><td>2013               </td><td>1                  </td><td>1                  </td><td>517                </td><td>515                </td><td> 2                 </td><td> 830               </td><td> 819               </td><td>11                 </td><td>UA                 </td><td>1545               </td><td>N14228             </td><td>EWR                </td><td>IAH                </td><td>227                </td><td>1400               </td><td>5                  </td><td>15                 </td><td>2013-01-01 05:00:00</td></tr>\n",
       "\t<tr><td>2013               </td><td>1                  </td><td>1                  </td><td>533                </td><td>529                </td><td> 4                 </td><td> 850               </td><td> 830               </td><td>20                 </td><td>UA                 </td><td>1714               </td><td>N24211             </td><td>LGA                </td><td>IAH                </td><td>227                </td><td>1416               </td><td>5                  </td><td>29                 </td><td>2013-01-01 05:00:00</td></tr>\n",
       "\t<tr><td>2013               </td><td>1                  </td><td>1                  </td><td>623                </td><td>627                </td><td>-4                 </td><td> 933               </td><td> 932               </td><td> 1                 </td><td>UA                 </td><td> 496               </td><td>N459UA             </td><td>LGA                </td><td>IAH                </td><td>229                </td><td>1416               </td><td>6                  </td><td>27                 </td><td>2013-01-01 06:00:00</td></tr>\n",
       "\t<tr><td>2013               </td><td>1                  </td><td>1                  </td><td>728                </td><td>732                </td><td>-4                 </td><td>1041               </td><td>1038               </td><td> 3                 </td><td>UA                 </td><td> 473               </td><td>N488UA             </td><td>LGA                </td><td>IAH                </td><td>238                </td><td>1416               </td><td>7                  </td><td>32                 </td><td>2013-01-01 07:00:00</td></tr>\n",
       "\t<tr><td>2013               </td><td>1                  </td><td>1                  </td><td>739                </td><td>739                </td><td> 0                 </td><td>1104               </td><td>1038               </td><td>26                 </td><td>UA                 </td><td>1479               </td><td>N37408             </td><td>EWR                </td><td>IAH                </td><td>249                </td><td>1400               </td><td>7                  </td><td>39                 </td><td>2013-01-01 07:00:00</td></tr>\n",
       "\t<tr><td>2013               </td><td>1                  </td><td>1                  </td><td>908                </td><td>908                </td><td> 0                 </td><td>1228               </td><td>1219               </td><td> 9                 </td><td>UA                 </td><td>1220               </td><td>N12216             </td><td>EWR                </td><td>IAH                </td><td>233                </td><td>1400               </td><td>9                  </td><td> 8                 </td><td>2013-01-01 09:00:00</td></tr>\n",
       "</tbody>\n",
       "</table>\n"
      ],
      "text/latex": [
       "\\begin{tabular}{r|lllllllllllllllllll}\n",
       " year & month & day & dep\\_time & sched\\_dep\\_time & dep\\_delay & arr\\_time & sched\\_arr\\_time & arr\\_delay & carrier & flight & tailnum & origin & dest & air\\_time & distance & hour & minute & time\\_hour\\\\\n",
       "\\hline\n",
       "\t 2013                & 1                   & 1                   & 517                 & 515                 &  2                  &  830                &  819                & 11                  & UA                  & 1545                & N14228              & EWR                 & IAH                 & 227                 & 1400                & 5                   & 15                  & 2013-01-01 05:00:00\\\\\n",
       "\t 2013                & 1                   & 1                   & 533                 & 529                 &  4                  &  850                &  830                & 20                  & UA                  & 1714                & N24211              & LGA                 & IAH                 & 227                 & 1416                & 5                   & 29                  & 2013-01-01 05:00:00\\\\\n",
       "\t 2013                & 1                   & 1                   & 623                 & 627                 & -4                  &  933                &  932                &  1                  & UA                  &  496                & N459UA              & LGA                 & IAH                 & 229                 & 1416                & 6                   & 27                  & 2013-01-01 06:00:00\\\\\n",
       "\t 2013                & 1                   & 1                   & 728                 & 732                 & -4                  & 1041                & 1038                &  3                  & UA                  &  473                & N488UA              & LGA                 & IAH                 & 238                 & 1416                & 7                   & 32                  & 2013-01-01 07:00:00\\\\\n",
       "\t 2013                & 1                   & 1                   & 739                 & 739                 &  0                  & 1104                & 1038                & 26                  & UA                  & 1479                & N37408              & EWR                 & IAH                 & 249                 & 1400                & 7                   & 39                  & 2013-01-01 07:00:00\\\\\n",
       "\t 2013                & 1                   & 1                   & 908                 & 908                 &  0                  & 1228                & 1219                &  9                  & UA                  & 1220                & N12216              & EWR                 & IAH                 & 233                 & 1400                & 9                   &  8                  & 2013-01-01 09:00:00\\\\\n",
       "\\end{tabular}\n"
      ],
      "text/markdown": [
       "\n",
       "year | month | day | dep_time | sched_dep_time | dep_delay | arr_time | sched_arr_time | arr_delay | carrier | flight | tailnum | origin | dest | air_time | distance | hour | minute | time_hour | \n",
       "|---|---|---|---|---|---|\n",
       "| 2013                | 1                   | 1                   | 517                 | 515                 |  2                  |  830                |  819                | 11                  | UA                  | 1545                | N14228              | EWR                 | IAH                 | 227                 | 1400                | 5                   | 15                  | 2013-01-01 05:00:00 | \n",
       "| 2013                | 1                   | 1                   | 533                 | 529                 |  4                  |  850                |  830                | 20                  | UA                  | 1714                | N24211              | LGA                 | IAH                 | 227                 | 1416                | 5                   | 29                  | 2013-01-01 05:00:00 | \n",
       "| 2013                | 1                   | 1                   | 623                 | 627                 | -4                  |  933                |  932                |  1                  | UA                  |  496                | N459UA              | LGA                 | IAH                 | 229                 | 1416                | 6                   | 27                  | 2013-01-01 06:00:00 | \n",
       "| 2013                | 1                   | 1                   | 728                 | 732                 | -4                  | 1041                | 1038                |  3                  | UA                  |  473                | N488UA              | LGA                 | IAH                 | 238                 | 1416                | 7                   | 32                  | 2013-01-01 07:00:00 | \n",
       "| 2013                | 1                   | 1                   | 739                 | 739                 |  0                  | 1104                | 1038                | 26                  | UA                  | 1479                | N37408              | EWR                 | IAH                 | 249                 | 1400                | 7                   | 39                  | 2013-01-01 07:00:00 | \n",
       "| 2013                | 1                   | 1                   | 908                 | 908                 |  0                  | 1228                | 1219                |  9                  | UA                  | 1220                | N12216              | EWR                 | IAH                 | 233                 | 1400                | 9                   |  8                  | 2013-01-01 09:00:00 | \n",
       "\n",
       "\n"
      ],
      "text/plain": [
       "  year month day dep_time sched_dep_time dep_delay arr_time sched_arr_time\n",
       "1 2013 1     1   517      515             2         830      819          \n",
       "2 2013 1     1   533      529             4         850      830          \n",
       "3 2013 1     1   623      627            -4         933      932          \n",
       "4 2013 1     1   728      732            -4        1041     1038          \n",
       "5 2013 1     1   739      739             0        1104     1038          \n",
       "6 2013 1     1   908      908             0        1228     1219          \n",
       "  arr_delay carrier flight tailnum origin dest air_time distance hour minute\n",
       "1 11        UA      1545   N14228  EWR    IAH  227      1400     5    15    \n",
       "2 20        UA      1714   N24211  LGA    IAH  227      1416     5    29    \n",
       "3  1        UA       496   N459UA  LGA    IAH  229      1416     6    27    \n",
       "4  3        UA       473   N488UA  LGA    IAH  238      1416     7    32    \n",
       "5 26        UA      1479   N37408  EWR    IAH  249      1400     7    39    \n",
       "6  9        UA      1220   N12216  EWR    IAH  233      1400     9     8    \n",
       "  time_hour          \n",
       "1 2013-01-01 05:00:00\n",
       "2 2013-01-01 05:00:00\n",
       "3 2013-01-01 06:00:00\n",
       "4 2013-01-01 07:00:00\n",
       "5 2013-01-01 07:00:00\n",
       "6 2013-01-01 09:00:00"
      ]
     },
     "metadata": {},
     "output_type": "display_data"
    }
   ],
   "source": [
    "head(filter(flights, dest %in% c('IAH','HOU')))"
   ]
  },
  {
   "cell_type": "code",
   "execution_count": 45,
   "metadata": {
    "collapsed": true
   },
   "outputs": [
    {
     "data": {
      "text/html": [
       "<table>\n",
       "<thead><tr><th scope=col>year</th><th scope=col>month</th><th scope=col>day</th><th scope=col>dep_time</th><th scope=col>sched_dep_time</th><th scope=col>dep_delay</th><th scope=col>arr_time</th><th scope=col>sched_arr_time</th><th scope=col>arr_delay</th><th scope=col>carrier</th><th scope=col>flight</th><th scope=col>tailnum</th><th scope=col>origin</th><th scope=col>dest</th><th scope=col>air_time</th><th scope=col>distance</th><th scope=col>hour</th><th scope=col>minute</th><th scope=col>time_hour</th></tr></thead>\n",
       "<tbody>\n",
       "\t<tr><td>2013               </td><td>7                  </td><td>1                  </td><td> 1                 </td><td>2029               </td><td>212                </td><td>236                </td><td>2359               </td><td>157                </td><td>B6                 </td><td> 915               </td><td>N653JB             </td><td>JFK                </td><td>SFO                </td><td>315                </td><td>2586               </td><td>20                 </td><td>29                 </td><td>2013-07-01 20:00:00</td></tr>\n",
       "\t<tr><td>2013               </td><td>7                  </td><td>1                  </td><td> 2                 </td><td>2359               </td><td>  3                </td><td>344                </td><td> 344               </td><td>  0                </td><td>B6                 </td><td>1503               </td><td>N805JB             </td><td>JFK                </td><td>SJU                </td><td>200                </td><td>1598               </td><td>23                 </td><td>59                 </td><td>2013-07-01 23:00:00</td></tr>\n",
       "\t<tr><td>2013               </td><td>7                  </td><td>1                  </td><td>29                 </td><td>2245               </td><td>104                </td><td>151                </td><td>   1               </td><td>110                </td><td>B6                 </td><td> 234               </td><td>N348JB             </td><td>JFK                </td><td>BTV                </td><td> 66                </td><td> 266               </td><td>22                 </td><td>45                 </td><td>2013-07-01 22:00:00</td></tr>\n",
       "\t<tr><td>2013               </td><td>7                  </td><td>1                  </td><td>43                 </td><td>2130               </td><td>193                </td><td>322                </td><td>  14               </td><td>188                </td><td>B6                 </td><td>1371               </td><td>N794JB             </td><td>LGA                </td><td>FLL                </td><td>143                </td><td>1076               </td><td>21                 </td><td>30                 </td><td>2013-07-01 21:00:00</td></tr>\n",
       "\t<tr><td>2013               </td><td>7                  </td><td>1                  </td><td>44                 </td><td>2150               </td><td>174                </td><td>300                </td><td> 100               </td><td>120                </td><td>AA                 </td><td> 185               </td><td>N324AA             </td><td>JFK                </td><td>LAX                </td><td>297                </td><td>2475               </td><td>21                 </td><td>50                 </td><td>2013-07-01 21:00:00</td></tr>\n",
       "\t<tr><td>2013               </td><td>7                  </td><td>1                  </td><td>46                 </td><td>2051               </td><td>235                </td><td>304                </td><td>2358               </td><td>186                </td><td>B6                 </td><td> 165               </td><td>N640JB             </td><td>JFK                </td><td>PDX                </td><td>304                </td><td>2454               </td><td>20                 </td><td>51                 </td><td>2013-07-01 20:00:00</td></tr>\n",
       "</tbody>\n",
       "</table>\n"
      ],
      "text/latex": [
       "\\begin{tabular}{r|lllllllllllllllllll}\n",
       " year & month & day & dep\\_time & sched\\_dep\\_time & dep\\_delay & arr\\_time & sched\\_arr\\_time & arr\\_delay & carrier & flight & tailnum & origin & dest & air\\_time & distance & hour & minute & time\\_hour\\\\\n",
       "\\hline\n",
       "\t 2013                & 7                   & 1                   &  1                  & 2029                & 212                 & 236                 & 2359                & 157                 & B6                  &  915                & N653JB              & JFK                 & SFO                 & 315                 & 2586                & 20                  & 29                  & 2013-07-01 20:00:00\\\\\n",
       "\t 2013                & 7                   & 1                   &  2                  & 2359                &   3                 & 344                 &  344                &   0                 & B6                  & 1503                & N805JB              & JFK                 & SJU                 & 200                 & 1598                & 23                  & 59                  & 2013-07-01 23:00:00\\\\\n",
       "\t 2013                & 7                   & 1                   & 29                  & 2245                & 104                 & 151                 &    1                & 110                 & B6                  &  234                & N348JB              & JFK                 & BTV                 &  66                 &  266                & 22                  & 45                  & 2013-07-01 22:00:00\\\\\n",
       "\t 2013                & 7                   & 1                   & 43                  & 2130                & 193                 & 322                 &   14                & 188                 & B6                  & 1371                & N794JB              & LGA                 & FLL                 & 143                 & 1076                & 21                  & 30                  & 2013-07-01 21:00:00\\\\\n",
       "\t 2013                & 7                   & 1                   & 44                  & 2150                & 174                 & 300                 &  100                & 120                 & AA                  &  185                & N324AA              & JFK                 & LAX                 & 297                 & 2475                & 21                  & 50                  & 2013-07-01 21:00:00\\\\\n",
       "\t 2013                & 7                   & 1                   & 46                  & 2051                & 235                 & 304                 & 2358                & 186                 & B6                  &  165                & N640JB              & JFK                 & PDX                 & 304                 & 2454                & 20                  & 51                  & 2013-07-01 20:00:00\\\\\n",
       "\\end{tabular}\n"
      ],
      "text/markdown": [
       "\n",
       "year | month | day | dep_time | sched_dep_time | dep_delay | arr_time | sched_arr_time | arr_delay | carrier | flight | tailnum | origin | dest | air_time | distance | hour | minute | time_hour | \n",
       "|---|---|---|---|---|---|\n",
       "| 2013                | 7                   | 1                   |  1                  | 2029                | 212                 | 236                 | 2359                | 157                 | B6                  |  915                | N653JB              | JFK                 | SFO                 | 315                 | 2586                | 20                  | 29                  | 2013-07-01 20:00:00 | \n",
       "| 2013                | 7                   | 1                   |  2                  | 2359                |   3                 | 344                 |  344                |   0                 | B6                  | 1503                | N805JB              | JFK                 | SJU                 | 200                 | 1598                | 23                  | 59                  | 2013-07-01 23:00:00 | \n",
       "| 2013                | 7                   | 1                   | 29                  | 2245                | 104                 | 151                 |    1                | 110                 | B6                  |  234                | N348JB              | JFK                 | BTV                 |  66                 |  266                | 22                  | 45                  | 2013-07-01 22:00:00 | \n",
       "| 2013                | 7                   | 1                   | 43                  | 2130                | 193                 | 322                 |   14                | 188                 | B6                  | 1371                | N794JB              | LGA                 | FLL                 | 143                 | 1076                | 21                  | 30                  | 2013-07-01 21:00:00 | \n",
       "| 2013                | 7                   | 1                   | 44                  | 2150                | 174                 | 300                 |  100                | 120                 | AA                  |  185                | N324AA              | JFK                 | LAX                 | 297                 | 2475                | 21                  | 50                  | 2013-07-01 21:00:00 | \n",
       "| 2013                | 7                   | 1                   | 46                  | 2051                | 235                 | 304                 | 2358                | 186                 | B6                  |  165                | N640JB              | JFK                 | PDX                 | 304                 | 2454                | 20                  | 51                  | 2013-07-01 20:00:00 | \n",
       "\n",
       "\n"
      ],
      "text/plain": [
       "  year month day dep_time sched_dep_time dep_delay arr_time sched_arr_time\n",
       "1 2013 7     1    1       2029           212       236      2359          \n",
       "2 2013 7     1    2       2359             3       344       344          \n",
       "3 2013 7     1   29       2245           104       151         1          \n",
       "4 2013 7     1   43       2130           193       322        14          \n",
       "5 2013 7     1   44       2150           174       300       100          \n",
       "6 2013 7     1   46       2051           235       304      2358          \n",
       "  arr_delay carrier flight tailnum origin dest air_time distance hour minute\n",
       "1 157       B6       915   N653JB  JFK    SFO  315      2586     20   29    \n",
       "2   0       B6      1503   N805JB  JFK    SJU  200      1598     23   59    \n",
       "3 110       B6       234   N348JB  JFK    BTV   66       266     22   45    \n",
       "4 188       B6      1371   N794JB  LGA    FLL  143      1076     21   30    \n",
       "5 120       AA       185   N324AA  JFK    LAX  297      2475     21   50    \n",
       "6 186       B6       165   N640JB  JFK    PDX  304      2454     20   51    \n",
       "  time_hour          \n",
       "1 2013-07-01 20:00:00\n",
       "2 2013-07-01 23:00:00\n",
       "3 2013-07-01 22:00:00\n",
       "4 2013-07-01 21:00:00\n",
       "5 2013-07-01 21:00:00\n",
       "6 2013-07-01 20:00:00"
      ]
     },
     "metadata": {},
     "output_type": "display_data"
    }
   ],
   "source": [
    "head(filter(flights, month %in% c(7,8,9)))"
   ]
  },
  {
   "cell_type": "code",
   "execution_count": 44,
   "metadata": {
    "collapsed": true
   },
   "outputs": [
    {
     "data": {
      "text/html": [
       "<table>\n",
       "<thead><tr><th scope=col>year</th><th scope=col>month</th><th scope=col>day</th><th scope=col>dep_time</th><th scope=col>sched_dep_time</th><th scope=col>dep_delay</th><th scope=col>arr_time</th><th scope=col>sched_arr_time</th><th scope=col>arr_delay</th><th scope=col>carrier</th><th scope=col>flight</th><th scope=col>tailnum</th><th scope=col>origin</th><th scope=col>dest</th><th scope=col>air_time</th><th scope=col>distance</th><th scope=col>hour</th><th scope=col>minute</th><th scope=col>time_hour</th></tr></thead>\n",
       "<tbody>\n",
       "\t<tr><td>2013               </td><td> 1                 </td><td>27                 </td><td>1419               </td><td>1420               </td><td>-1                 </td><td>1754               </td><td>1550               </td><td>124                </td><td>MQ                 </td><td>3728               </td><td>N1EAMQ             </td><td>EWR                </td><td>ORD                </td><td>135                </td><td> 719               </td><td>14                 </td><td>20                 </td><td>2013-01-27 14:00:00</td></tr>\n",
       "\t<tr><td>2013               </td><td>10                 </td><td> 7                 </td><td>1350               </td><td>1350               </td><td> 0                 </td><td>1736               </td><td>1526               </td><td>130                </td><td>EV                 </td><td>5181               </td><td>N611QX             </td><td>LGA                </td><td>MSN                </td><td>117                </td><td> 812               </td><td>13                 </td><td>50                 </td><td>2013-10-07 13:00:00</td></tr>\n",
       "\t<tr><td>2013               </td><td>10                 </td><td> 7                 </td><td>1357               </td><td>1359               </td><td>-2                 </td><td>1858               </td><td>1654               </td><td>124                </td><td>AA                 </td><td>1151               </td><td>N3CMAA             </td><td>LGA                </td><td>DFW                </td><td>192                </td><td>1389               </td><td>13                 </td><td>59                 </td><td>2013-10-07 13:00:00</td></tr>\n",
       "\t<tr><td>2013               </td><td>10                 </td><td>16                 </td><td> 657               </td><td> 700               </td><td>-3                 </td><td>1258               </td><td>1056               </td><td>122                </td><td>B6                 </td><td>   3               </td><td>N703JB             </td><td>JFK                </td><td>SJU                </td><td>225                </td><td>1598               </td><td> 7                 </td><td> 0                 </td><td>2013-10-16 07:00:00</td></tr>\n",
       "\t<tr><td>2013               </td><td>11                 </td><td> 1                 </td><td> 658               </td><td> 700               </td><td>-2                 </td><td>1329               </td><td>1015               </td><td>194                </td><td>VX                 </td><td> 399               </td><td>N629VA             </td><td>JFK                </td><td>LAX                </td><td>336                </td><td>2475               </td><td> 7                 </td><td> 0                 </td><td>2013-11-01 07:00:00</td></tr>\n",
       "\t<tr><td>2013               </td><td> 3                 </td><td>18                 </td><td>1844               </td><td>1847               </td><td>-3                 </td><td>  39               </td><td>2219               </td><td>140                </td><td>UA                 </td><td> 389               </td><td>N560UA             </td><td>JFK                </td><td>SFO                </td><td>386                </td><td>2586               </td><td>18                 </td><td>47                 </td><td>2013-03-18 18:00:00</td></tr>\n",
       "</tbody>\n",
       "</table>\n"
      ],
      "text/latex": [
       "\\begin{tabular}{r|lllllllllllllllllll}\n",
       " year & month & day & dep\\_time & sched\\_dep\\_time & dep\\_delay & arr\\_time & sched\\_arr\\_time & arr\\_delay & carrier & flight & tailnum & origin & dest & air\\_time & distance & hour & minute & time\\_hour\\\\\n",
       "\\hline\n",
       "\t 2013                &  1                  & 27                  & 1419                & 1420                & -1                  & 1754                & 1550                & 124                 & MQ                  & 3728                & N1EAMQ              & EWR                 & ORD                 & 135                 &  719                & 14                  & 20                  & 2013-01-27 14:00:00\\\\\n",
       "\t 2013                & 10                  &  7                  & 1350                & 1350                &  0                  & 1736                & 1526                & 130                 & EV                  & 5181                & N611QX              & LGA                 & MSN                 & 117                 &  812                & 13                  & 50                  & 2013-10-07 13:00:00\\\\\n",
       "\t 2013                & 10                  &  7                  & 1357                & 1359                & -2                  & 1858                & 1654                & 124                 & AA                  & 1151                & N3CMAA              & LGA                 & DFW                 & 192                 & 1389                & 13                  & 59                  & 2013-10-07 13:00:00\\\\\n",
       "\t 2013                & 10                  & 16                  &  657                &  700                & -3                  & 1258                & 1056                & 122                 & B6                  &    3                & N703JB              & JFK                 & SJU                 & 225                 & 1598                &  7                  &  0                  & 2013-10-16 07:00:00\\\\\n",
       "\t 2013                & 11                  &  1                  &  658                &  700                & -2                  & 1329                & 1015                & 194                 & VX                  &  399                & N629VA              & JFK                 & LAX                 & 336                 & 2475                &  7                  &  0                  & 2013-11-01 07:00:00\\\\\n",
       "\t 2013                &  3                  & 18                  & 1844                & 1847                & -3                  &   39                & 2219                & 140                 & UA                  &  389                & N560UA              & JFK                 & SFO                 & 386                 & 2586                & 18                  & 47                  & 2013-03-18 18:00:00\\\\\n",
       "\\end{tabular}\n"
      ],
      "text/markdown": [
       "\n",
       "year | month | day | dep_time | sched_dep_time | dep_delay | arr_time | sched_arr_time | arr_delay | carrier | flight | tailnum | origin | dest | air_time | distance | hour | minute | time_hour | \n",
       "|---|---|---|---|---|---|\n",
       "| 2013                |  1                  | 27                  | 1419                | 1420                | -1                  | 1754                | 1550                | 124                 | MQ                  | 3728                | N1EAMQ              | EWR                 | ORD                 | 135                 |  719                | 14                  | 20                  | 2013-01-27 14:00:00 | \n",
       "| 2013                | 10                  |  7                  | 1350                | 1350                |  0                  | 1736                | 1526                | 130                 | EV                  | 5181                | N611QX              | LGA                 | MSN                 | 117                 |  812                | 13                  | 50                  | 2013-10-07 13:00:00 | \n",
       "| 2013                | 10                  |  7                  | 1357                | 1359                | -2                  | 1858                | 1654                | 124                 | AA                  | 1151                | N3CMAA              | LGA                 | DFW                 | 192                 | 1389                | 13                  | 59                  | 2013-10-07 13:00:00 | \n",
       "| 2013                | 10                  | 16                  |  657                |  700                | -3                  | 1258                | 1056                | 122                 | B6                  |    3                | N703JB              | JFK                 | SJU                 | 225                 | 1598                |  7                  |  0                  | 2013-10-16 07:00:00 | \n",
       "| 2013                | 11                  |  1                  |  658                |  700                | -2                  | 1329                | 1015                | 194                 | VX                  |  399                | N629VA              | JFK                 | LAX                 | 336                 | 2475                |  7                  |  0                  | 2013-11-01 07:00:00 | \n",
       "| 2013                |  3                  | 18                  | 1844                | 1847                | -3                  |   39                | 2219                | 140                 | UA                  |  389                | N560UA              | JFK                 | SFO                 | 386                 | 2586                | 18                  | 47                  | 2013-03-18 18:00:00 | \n",
       "\n",
       "\n"
      ],
      "text/plain": [
       "  year month day dep_time sched_dep_time dep_delay arr_time sched_arr_time\n",
       "1 2013  1    27  1419     1420           -1        1754     1550          \n",
       "2 2013 10     7  1350     1350            0        1736     1526          \n",
       "3 2013 10     7  1357     1359           -2        1858     1654          \n",
       "4 2013 10    16   657      700           -3        1258     1056          \n",
       "5 2013 11     1   658      700           -2        1329     1015          \n",
       "6 2013  3    18  1844     1847           -3          39     2219          \n",
       "  arr_delay carrier flight tailnum origin dest air_time distance hour minute\n",
       "1 124       MQ      3728   N1EAMQ  EWR    ORD  135       719     14   20    \n",
       "2 130       EV      5181   N611QX  LGA    MSN  117       812     13   50    \n",
       "3 124       AA      1151   N3CMAA  LGA    DFW  192      1389     13   59    \n",
       "4 122       B6         3   N703JB  JFK    SJU  225      1598      7    0    \n",
       "5 194       VX       399   N629VA  JFK    LAX  336      2475      7    0    \n",
       "6 140       UA       389   N560UA  JFK    SFO  386      2586     18   47    \n",
       "  time_hour          \n",
       "1 2013-01-27 14:00:00\n",
       "2 2013-10-07 13:00:00\n",
       "3 2013-10-07 13:00:00\n",
       "4 2013-10-16 07:00:00\n",
       "5 2013-11-01 07:00:00\n",
       "6 2013-03-18 18:00:00"
      ]
     },
     "metadata": {},
     "output_type": "display_data"
    }
   ],
   "source": [
    "head(filter(flights, (flights$arr_delay/60>2) & (flights$dep_delay<=0)))"
   ]
  },
  {
   "cell_type": "code",
   "execution_count": 43,
   "metadata": {
    "collapsed": true
   },
   "outputs": [
    {
     "data": {
      "text/html": [
       "<table>\n",
       "<thead><tr><th scope=col>year</th><th scope=col>month</th><th scope=col>day</th><th scope=col>dep_time</th><th scope=col>sched_dep_time</th><th scope=col>dep_delay</th><th scope=col>arr_time</th><th scope=col>sched_arr_time</th><th scope=col>arr_delay</th><th scope=col>carrier</th><th scope=col>flight</th><th scope=col>tailnum</th><th scope=col>origin</th><th scope=col>dest</th><th scope=col>air_time</th><th scope=col>distance</th><th scope=col>hour</th><th scope=col>minute</th><th scope=col>time_hour</th></tr></thead>\n",
       "<tbody>\n",
       "\t<tr><td>2013               </td><td>1                  </td><td>1                  </td><td> 826               </td><td> 715               </td><td>71                 </td><td>1136               </td><td>1045               </td><td>51                 </td><td>AA                 </td><td> 443               </td><td>N3GVAA             </td><td>JFK                </td><td>MIA                </td><td>160                </td><td>1089               </td><td> 7                 </td><td>15                 </td><td>2013-01-01 07:00:00</td></tr>\n",
       "\t<tr><td>2013               </td><td>1                  </td><td>1                  </td><td>1628               </td><td>1524               </td><td>64                 </td><td>1740               </td><td>1641               </td><td>59                 </td><td>EV                 </td><td>4133               </td><td>N14959             </td><td>EWR                </td><td>IAD                </td><td> 53                </td><td> 212               </td><td>15                 </td><td>24                 </td><td>2013-01-01 15:00:00</td></tr>\n",
       "\t<tr><td>2013               </td><td>1                  </td><td>1                  </td><td>1846               </td><td>1745               </td><td>61                 </td><td>2147               </td><td>2055               </td><td>52                 </td><td>AA                 </td><td> 785               </td><td>N3ESAA             </td><td>LGA                </td><td>DFW                </td><td>223                </td><td>1389               </td><td>17                 </td><td>45                 </td><td>2013-01-01 17:00:00</td></tr>\n",
       "\t<tr><td>2013               </td><td>1                  </td><td>1                  </td><td>2302               </td><td>2200               </td><td>62                 </td><td>2342               </td><td>2253               </td><td>49                 </td><td>EV                 </td><td>4276               </td><td>N13903             </td><td>EWR                </td><td>BDL                </td><td> 24                </td><td> 116               </td><td>22                 </td><td> 0                 </td><td>2013-01-01 22:00:00</td></tr>\n",
       "\t<tr><td>2013               </td><td>1                  </td><td>2                  </td><td>1125               </td><td>1020               </td><td>65                 </td><td>1309               </td><td>1223               </td><td>46                 </td><td>EV                 </td><td>5026               </td><td>N738EV             </td><td>EWR                </td><td>DTW                </td><td> 86                </td><td> 488               </td><td>10                 </td><td>20                 </td><td>2013-01-02 10:00:00</td></tr>\n",
       "\t<tr><td>2013               </td><td>1                  </td><td>2                  </td><td>1345               </td><td>1240               </td><td>65                 </td><td>1642               </td><td>1555               </td><td>47                 </td><td>AA                 </td><td>2041               </td><td>N5CYAA             </td><td>JFK                </td><td>MIA                </td><td>159                </td><td>1089               </td><td>12                 </td><td>40                 </td><td>2013-01-02 12:00:00</td></tr>\n",
       "</tbody>\n",
       "</table>\n"
      ],
      "text/latex": [
       "\\begin{tabular}{r|lllllllllllllllllll}\n",
       " year & month & day & dep\\_time & sched\\_dep\\_time & dep\\_delay & arr\\_time & sched\\_arr\\_time & arr\\_delay & carrier & flight & tailnum & origin & dest & air\\_time & distance & hour & minute & time\\_hour\\\\\n",
       "\\hline\n",
       "\t 2013                & 1                   & 1                   &  826                &  715                & 71                  & 1136                & 1045                & 51                  & AA                  &  443                & N3GVAA              & JFK                 & MIA                 & 160                 & 1089                &  7                  & 15                  & 2013-01-01 07:00:00\\\\\n",
       "\t 2013                & 1                   & 1                   & 1628                & 1524                & 64                  & 1740                & 1641                & 59                  & EV                  & 4133                & N14959              & EWR                 & IAD                 &  53                 &  212                & 15                  & 24                  & 2013-01-01 15:00:00\\\\\n",
       "\t 2013                & 1                   & 1                   & 1846                & 1745                & 61                  & 2147                & 2055                & 52                  & AA                  &  785                & N3ESAA              & LGA                 & DFW                 & 223                 & 1389                & 17                  & 45                  & 2013-01-01 17:00:00\\\\\n",
       "\t 2013                & 1                   & 1                   & 2302                & 2200                & 62                  & 2342                & 2253                & 49                  & EV                  & 4276                & N13903              & EWR                 & BDL                 &  24                 &  116                & 22                  &  0                  & 2013-01-01 22:00:00\\\\\n",
       "\t 2013                & 1                   & 2                   & 1125                & 1020                & 65                  & 1309                & 1223                & 46                  & EV                  & 5026                & N738EV              & EWR                 & DTW                 &  86                 &  488                & 10                  & 20                  & 2013-01-02 10:00:00\\\\\n",
       "\t 2013                & 1                   & 2                   & 1345                & 1240                & 65                  & 1642                & 1555                & 47                  & AA                  & 2041                & N5CYAA              & JFK                 & MIA                 & 159                 & 1089                & 12                  & 40                  & 2013-01-02 12:00:00\\\\\n",
       "\\end{tabular}\n"
      ],
      "text/markdown": [
       "\n",
       "year | month | day | dep_time | sched_dep_time | dep_delay | arr_time | sched_arr_time | arr_delay | carrier | flight | tailnum | origin | dest | air_time | distance | hour | minute | time_hour | \n",
       "|---|---|---|---|---|---|\n",
       "| 2013                | 1                   | 1                   |  826                |  715                | 71                  | 1136                | 1045                | 51                  | AA                  |  443                | N3GVAA              | JFK                 | MIA                 | 160                 | 1089                |  7                  | 15                  | 2013-01-01 07:00:00 | \n",
       "| 2013                | 1                   | 1                   | 1628                | 1524                | 64                  | 1740                | 1641                | 59                  | EV                  | 4133                | N14959              | EWR                 | IAD                 |  53                 |  212                | 15                  | 24                  | 2013-01-01 15:00:00 | \n",
       "| 2013                | 1                   | 1                   | 1846                | 1745                | 61                  | 2147                | 2055                | 52                  | AA                  |  785                | N3ESAA              | LGA                 | DFW                 | 223                 | 1389                | 17                  | 45                  | 2013-01-01 17:00:00 | \n",
       "| 2013                | 1                   | 1                   | 2302                | 2200                | 62                  | 2342                | 2253                | 49                  | EV                  | 4276                | N13903              | EWR                 | BDL                 |  24                 |  116                | 22                  |  0                  | 2013-01-01 22:00:00 | \n",
       "| 2013                | 1                   | 2                   | 1125                | 1020                | 65                  | 1309                | 1223                | 46                  | EV                  | 5026                | N738EV              | EWR                 | DTW                 |  86                 |  488                | 10                  | 20                  | 2013-01-02 10:00:00 | \n",
       "| 2013                | 1                   | 2                   | 1345                | 1240                | 65                  | 1642                | 1555                | 47                  | AA                  | 2041                | N5CYAA              | JFK                 | MIA                 | 159                 | 1089                | 12                  | 40                  | 2013-01-02 12:00:00 | \n",
       "\n",
       "\n"
      ],
      "text/plain": [
       "  year month day dep_time sched_dep_time dep_delay arr_time sched_arr_time\n",
       "1 2013 1     1    826      715           71        1136     1045          \n",
       "2 2013 1     1   1628     1524           64        1740     1641          \n",
       "3 2013 1     1   1846     1745           61        2147     2055          \n",
       "4 2013 1     1   2302     2200           62        2342     2253          \n",
       "5 2013 1     2   1125     1020           65        1309     1223          \n",
       "6 2013 1     2   1345     1240           65        1642     1555          \n",
       "  arr_delay carrier flight tailnum origin dest air_time distance hour minute\n",
       "1 51        AA       443   N3GVAA  JFK    MIA  160      1089      7   15    \n",
       "2 59        EV      4133   N14959  EWR    IAD   53       212     15   24    \n",
       "3 52        AA       785   N3ESAA  LGA    DFW  223      1389     17   45    \n",
       "4 49        EV      4276   N13903  EWR    BDL   24       116     22    0    \n",
       "5 46        EV      5026   N738EV  EWR    DTW   86       488     10   20    \n",
       "6 47        AA      2041   N5CYAA  JFK    MIA  159      1089     12   40    \n",
       "  time_hour          \n",
       "1 2013-01-01 07:00:00\n",
       "2 2013-01-01 15:00:00\n",
       "3 2013-01-01 17:00:00\n",
       "4 2013-01-01 22:00:00\n",
       "5 2013-01-02 10:00:00\n",
       "6 2013-01-02 12:00:00"
      ]
     },
     "metadata": {},
     "output_type": "display_data"
    }
   ],
   "source": [
    "head(filter(flights, (flights$dep_delay>=60)& (flights$arr_delay<=60)))"
   ]
  },
  {
   "cell_type": "code",
   "execution_count": 42,
   "metadata": {
    "collapsed": true
   },
   "outputs": [
    {
     "data": {
      "text/html": [
       "<table>\n",
       "<thead><tr><th scope=col>year</th><th scope=col>month</th><th scope=col>day</th><th scope=col>dep_time</th><th scope=col>sched_dep_time</th><th scope=col>dep_delay</th><th scope=col>arr_time</th><th scope=col>sched_arr_time</th><th scope=col>arr_delay</th><th scope=col>carrier</th><th scope=col>flight</th><th scope=col>tailnum</th><th scope=col>origin</th><th scope=col>dest</th><th scope=col>air_time</th><th scope=col>distance</th><th scope=col>hour</th><th scope=col>minute</th><th scope=col>time_hour</th></tr></thead>\n",
       "<tbody>\n",
       "\t<tr><td>2013               </td><td>1                  </td><td>1                  </td><td>517                </td><td>515                </td><td> 2                 </td><td> 830               </td><td> 819               </td><td> 11                </td><td>UA                 </td><td>1545               </td><td>N14228             </td><td>EWR                </td><td>IAH                </td><td>227                </td><td>1400               </td><td>5                  </td><td>15                 </td><td>2013-01-01 05:00:00</td></tr>\n",
       "\t<tr><td>2013               </td><td>1                  </td><td>1                  </td><td>533                </td><td>529                </td><td> 4                 </td><td> 850               </td><td> 830               </td><td> 20                </td><td>UA                 </td><td>1714               </td><td>N24211             </td><td>LGA                </td><td>IAH                </td><td>227                </td><td>1416               </td><td>5                  </td><td>29                 </td><td>2013-01-01 05:00:00</td></tr>\n",
       "\t<tr><td>2013               </td><td>1                  </td><td>1                  </td><td>542                </td><td>540                </td><td> 2                 </td><td> 923               </td><td> 850               </td><td> 33                </td><td>AA                 </td><td>1141               </td><td>N619AA             </td><td>JFK                </td><td>MIA                </td><td>160                </td><td>1089               </td><td>5                  </td><td>40                 </td><td>2013-01-01 05:00:00</td></tr>\n",
       "\t<tr><td>2013               </td><td>1                  </td><td>1                  </td><td>544                </td><td>545                </td><td>-1                 </td><td>1004               </td><td>1022               </td><td>-18                </td><td>B6                 </td><td> 725               </td><td>N804JB             </td><td>JFK                </td><td>BQN                </td><td>183                </td><td>1576               </td><td>5                  </td><td>45                 </td><td>2013-01-01 05:00:00</td></tr>\n",
       "\t<tr><td>2013               </td><td>1                  </td><td>1                  </td><td>554                </td><td>600                </td><td>-6                 </td><td> 812               </td><td> 837               </td><td>-25                </td><td>DL                 </td><td> 461               </td><td>N668DN             </td><td>LGA                </td><td>ATL                </td><td>116                </td><td> 762               </td><td>6                  </td><td> 0                 </td><td>2013-01-01 06:00:00</td></tr>\n",
       "\t<tr><td>2013               </td><td>1                  </td><td>1                  </td><td>554                </td><td>558                </td><td>-4                 </td><td> 740               </td><td> 728               </td><td> 12                </td><td>UA                 </td><td>1696               </td><td>N39463             </td><td>EWR                </td><td>ORD                </td><td>150                </td><td> 719               </td><td>5                  </td><td>58                 </td><td>2013-01-01 05:00:00</td></tr>\n",
       "</tbody>\n",
       "</table>\n"
      ],
      "text/latex": [
       "\\begin{tabular}{r|lllllllllllllllllll}\n",
       " year & month & day & dep\\_time & sched\\_dep\\_time & dep\\_delay & arr\\_time & sched\\_arr\\_time & arr\\_delay & carrier & flight & tailnum & origin & dest & air\\_time & distance & hour & minute & time\\_hour\\\\\n",
       "\\hline\n",
       "\t 2013                & 1                   & 1                   & 517                 & 515                 &  2                  &  830                &  819                &  11                 & UA                  & 1545                & N14228              & EWR                 & IAH                 & 227                 & 1400                & 5                   & 15                  & 2013-01-01 05:00:00\\\\\n",
       "\t 2013                & 1                   & 1                   & 533                 & 529                 &  4                  &  850                &  830                &  20                 & UA                  & 1714                & N24211              & LGA                 & IAH                 & 227                 & 1416                & 5                   & 29                  & 2013-01-01 05:00:00\\\\\n",
       "\t 2013                & 1                   & 1                   & 542                 & 540                 &  2                  &  923                &  850                &  33                 & AA                  & 1141                & N619AA              & JFK                 & MIA                 & 160                 & 1089                & 5                   & 40                  & 2013-01-01 05:00:00\\\\\n",
       "\t 2013                & 1                   & 1                   & 544                 & 545                 & -1                  & 1004                & 1022                & -18                 & B6                  &  725                & N804JB              & JFK                 & BQN                 & 183                 & 1576                & 5                   & 45                  & 2013-01-01 05:00:00\\\\\n",
       "\t 2013                & 1                   & 1                   & 554                 & 600                 & -6                  &  812                &  837                & -25                 & DL                  &  461                & N668DN              & LGA                 & ATL                 & 116                 &  762                & 6                   &  0                  & 2013-01-01 06:00:00\\\\\n",
       "\t 2013                & 1                   & 1                   & 554                 & 558                 & -4                  &  740                &  728                &  12                 & UA                  & 1696                & N39463              & EWR                 & ORD                 & 150                 &  719                & 5                   & 58                  & 2013-01-01 05:00:00\\\\\n",
       "\\end{tabular}\n"
      ],
      "text/markdown": [
       "\n",
       "year | month | day | dep_time | sched_dep_time | dep_delay | arr_time | sched_arr_time | arr_delay | carrier | flight | tailnum | origin | dest | air_time | distance | hour | minute | time_hour | \n",
       "|---|---|---|---|---|---|\n",
       "| 2013                | 1                   | 1                   | 517                 | 515                 |  2                  |  830                |  819                |  11                 | UA                  | 1545                | N14228              | EWR                 | IAH                 | 227                 | 1400                | 5                   | 15                  | 2013-01-01 05:00:00 | \n",
       "| 2013                | 1                   | 1                   | 533                 | 529                 |  4                  |  850                |  830                |  20                 | UA                  | 1714                | N24211              | LGA                 | IAH                 | 227                 | 1416                | 5                   | 29                  | 2013-01-01 05:00:00 | \n",
       "| 2013                | 1                   | 1                   | 542                 | 540                 |  2                  |  923                |  850                |  33                 | AA                  | 1141                | N619AA              | JFK                 | MIA                 | 160                 | 1089                | 5                   | 40                  | 2013-01-01 05:00:00 | \n",
       "| 2013                | 1                   | 1                   | 544                 | 545                 | -1                  | 1004                | 1022                | -18                 | B6                  |  725                | N804JB              | JFK                 | BQN                 | 183                 | 1576                | 5                   | 45                  | 2013-01-01 05:00:00 | \n",
       "| 2013                | 1                   | 1                   | 554                 | 600                 | -6                  |  812                |  837                | -25                 | DL                  |  461                | N668DN              | LGA                 | ATL                 | 116                 |  762                | 6                   |  0                  | 2013-01-01 06:00:00 | \n",
       "| 2013                | 1                   | 1                   | 554                 | 558                 | -4                  |  740                |  728                |  12                 | UA                  | 1696                | N39463              | EWR                 | ORD                 | 150                 |  719                | 5                   | 58                  | 2013-01-01 05:00:00 | \n",
       "\n",
       "\n"
      ],
      "text/plain": [
       "  year month day dep_time sched_dep_time dep_delay arr_time sched_arr_time\n",
       "1 2013 1     1   517      515             2         830      819          \n",
       "2 2013 1     1   533      529             4         850      830          \n",
       "3 2013 1     1   542      540             2         923      850          \n",
       "4 2013 1     1   544      545            -1        1004     1022          \n",
       "5 2013 1     1   554      600            -6         812      837          \n",
       "6 2013 1     1   554      558            -4         740      728          \n",
       "  arr_delay carrier flight tailnum origin dest air_time distance hour minute\n",
       "1  11       UA      1545   N14228  EWR    IAH  227      1400     5    15    \n",
       "2  20       UA      1714   N24211  LGA    IAH  227      1416     5    29    \n",
       "3  33       AA      1141   N619AA  JFK    MIA  160      1089     5    40    \n",
       "4 -18       B6       725   N804JB  JFK    BQN  183      1576     5    45    \n",
       "5 -25       DL       461   N668DN  LGA    ATL  116       762     6     0    \n",
       "6  12       UA      1696   N39463  EWR    ORD  150       719     5    58    \n",
       "  time_hour          \n",
       "1 2013-01-01 05:00:00\n",
       "2 2013-01-01 05:00:00\n",
       "3 2013-01-01 05:00:00\n",
       "4 2013-01-01 05:00:00\n",
       "5 2013-01-01 06:00:00\n",
       "6 2013-01-01 05:00:00"
      ]
     },
     "metadata": {},
     "output_type": "display_data"
    }
   ],
   "source": [
    "head(filter(flights, (flights$dep_time/100>=0)&(flights$dep_time/100<=6)))"
   ]
  },
  {
   "cell_type": "code",
   "execution_count": 19,
   "metadata": {},
   "outputs": [],
   "source": [
    "?dplyr::between()"
   ]
  },
  {
   "cell_type": "code",
   "execution_count": 41,
   "metadata": {
    "collapsed": true
   },
   "outputs": [
    {
     "data": {
      "text/html": [
       "<table>\n",
       "<thead><tr><th scope=col>year</th><th scope=col>month</th><th scope=col>day</th><th scope=col>dep_time</th><th scope=col>sched_dep_time</th><th scope=col>dep_delay</th><th scope=col>arr_time</th><th scope=col>sched_arr_time</th><th scope=col>arr_delay</th><th scope=col>carrier</th><th scope=col>flight</th><th scope=col>tailnum</th><th scope=col>origin</th><th scope=col>dest</th><th scope=col>air_time</th><th scope=col>distance</th><th scope=col>hour</th><th scope=col>minute</th><th scope=col>time_hour</th></tr></thead>\n",
       "<tbody>\n",
       "\t<tr><td>2013               </td><td>1                  </td><td>1                  </td><td>517                </td><td>515                </td><td> 2                 </td><td> 830               </td><td> 819               </td><td> 11                </td><td>UA                 </td><td>1545               </td><td>N14228             </td><td>EWR                </td><td>IAH                </td><td>227                </td><td>1400               </td><td>5                  </td><td>15                 </td><td>2013-01-01 05:00:00</td></tr>\n",
       "\t<tr><td>2013               </td><td>1                  </td><td>1                  </td><td>533                </td><td>529                </td><td> 4                 </td><td> 850               </td><td> 830               </td><td> 20                </td><td>UA                 </td><td>1714               </td><td>N24211             </td><td>LGA                </td><td>IAH                </td><td>227                </td><td>1416               </td><td>5                  </td><td>29                 </td><td>2013-01-01 05:00:00</td></tr>\n",
       "\t<tr><td>2013               </td><td>1                  </td><td>1                  </td><td>542                </td><td>540                </td><td> 2                 </td><td> 923               </td><td> 850               </td><td> 33                </td><td>AA                 </td><td>1141               </td><td>N619AA             </td><td>JFK                </td><td>MIA                </td><td>160                </td><td>1089               </td><td>5                  </td><td>40                 </td><td>2013-01-01 05:00:00</td></tr>\n",
       "\t<tr><td>2013               </td><td>1                  </td><td>1                  </td><td>544                </td><td>545                </td><td>-1                 </td><td>1004               </td><td>1022               </td><td>-18                </td><td>B6                 </td><td> 725               </td><td>N804JB             </td><td>JFK                </td><td>BQN                </td><td>183                </td><td>1576               </td><td>5                  </td><td>45                 </td><td>2013-01-01 05:00:00</td></tr>\n",
       "\t<tr><td>2013               </td><td>1                  </td><td>1                  </td><td>554                </td><td>600                </td><td>-6                 </td><td> 812               </td><td> 837               </td><td>-25                </td><td>DL                 </td><td> 461               </td><td>N668DN             </td><td>LGA                </td><td>ATL                </td><td>116                </td><td> 762               </td><td>6                  </td><td> 0                 </td><td>2013-01-01 06:00:00</td></tr>\n",
       "\t<tr><td>2013               </td><td>1                  </td><td>1                  </td><td>554                </td><td>558                </td><td>-4                 </td><td> 740               </td><td> 728               </td><td> 12                </td><td>UA                 </td><td>1696               </td><td>N39463             </td><td>EWR                </td><td>ORD                </td><td>150                </td><td> 719               </td><td>5                  </td><td>58                 </td><td>2013-01-01 05:00:00</td></tr>\n",
       "</tbody>\n",
       "</table>\n"
      ],
      "text/latex": [
       "\\begin{tabular}{r|lllllllllllllllllll}\n",
       " year & month & day & dep\\_time & sched\\_dep\\_time & dep\\_delay & arr\\_time & sched\\_arr\\_time & arr\\_delay & carrier & flight & tailnum & origin & dest & air\\_time & distance & hour & minute & time\\_hour\\\\\n",
       "\\hline\n",
       "\t 2013                & 1                   & 1                   & 517                 & 515                 &  2                  &  830                &  819                &  11                 & UA                  & 1545                & N14228              & EWR                 & IAH                 & 227                 & 1400                & 5                   & 15                  & 2013-01-01 05:00:00\\\\\n",
       "\t 2013                & 1                   & 1                   & 533                 & 529                 &  4                  &  850                &  830                &  20                 & UA                  & 1714                & N24211              & LGA                 & IAH                 & 227                 & 1416                & 5                   & 29                  & 2013-01-01 05:00:00\\\\\n",
       "\t 2013                & 1                   & 1                   & 542                 & 540                 &  2                  &  923                &  850                &  33                 & AA                  & 1141                & N619AA              & JFK                 & MIA                 & 160                 & 1089                & 5                   & 40                  & 2013-01-01 05:00:00\\\\\n",
       "\t 2013                & 1                   & 1                   & 544                 & 545                 & -1                  & 1004                & 1022                & -18                 & B6                  &  725                & N804JB              & JFK                 & BQN                 & 183                 & 1576                & 5                   & 45                  & 2013-01-01 05:00:00\\\\\n",
       "\t 2013                & 1                   & 1                   & 554                 & 600                 & -6                  &  812                &  837                & -25                 & DL                  &  461                & N668DN              & LGA                 & ATL                 & 116                 &  762                & 6                   &  0                  & 2013-01-01 06:00:00\\\\\n",
       "\t 2013                & 1                   & 1                   & 554                 & 558                 & -4                  &  740                &  728                &  12                 & UA                  & 1696                & N39463              & EWR                 & ORD                 & 150                 &  719                & 5                   & 58                  & 2013-01-01 05:00:00\\\\\n",
       "\\end{tabular}\n"
      ],
      "text/markdown": [
       "\n",
       "year | month | day | dep_time | sched_dep_time | dep_delay | arr_time | sched_arr_time | arr_delay | carrier | flight | tailnum | origin | dest | air_time | distance | hour | minute | time_hour | \n",
       "|---|---|---|---|---|---|\n",
       "| 2013                | 1                   | 1                   | 517                 | 515                 |  2                  |  830                |  819                |  11                 | UA                  | 1545                | N14228              | EWR                 | IAH                 | 227                 | 1400                | 5                   | 15                  | 2013-01-01 05:00:00 | \n",
       "| 2013                | 1                   | 1                   | 533                 | 529                 |  4                  |  850                |  830                |  20                 | UA                  | 1714                | N24211              | LGA                 | IAH                 | 227                 | 1416                | 5                   | 29                  | 2013-01-01 05:00:00 | \n",
       "| 2013                | 1                   | 1                   | 542                 | 540                 |  2                  |  923                |  850                |  33                 | AA                  | 1141                | N619AA              | JFK                 | MIA                 | 160                 | 1089                | 5                   | 40                  | 2013-01-01 05:00:00 | \n",
       "| 2013                | 1                   | 1                   | 544                 | 545                 | -1                  | 1004                | 1022                | -18                 | B6                  |  725                | N804JB              | JFK                 | BQN                 | 183                 | 1576                | 5                   | 45                  | 2013-01-01 05:00:00 | \n",
       "| 2013                | 1                   | 1                   | 554                 | 600                 | -6                  |  812                |  837                | -25                 | DL                  |  461                | N668DN              | LGA                 | ATL                 | 116                 |  762                | 6                   |  0                  | 2013-01-01 06:00:00 | \n",
       "| 2013                | 1                   | 1                   | 554                 | 558                 | -4                  |  740                |  728                |  12                 | UA                  | 1696                | N39463              | EWR                 | ORD                 | 150                 |  719                | 5                   | 58                  | 2013-01-01 05:00:00 | \n",
       "\n",
       "\n"
      ],
      "text/plain": [
       "  year month day dep_time sched_dep_time dep_delay arr_time sched_arr_time\n",
       "1 2013 1     1   517      515             2         830      819          \n",
       "2 2013 1     1   533      529             4         850      830          \n",
       "3 2013 1     1   542      540             2         923      850          \n",
       "4 2013 1     1   544      545            -1        1004     1022          \n",
       "5 2013 1     1   554      600            -6         812      837          \n",
       "6 2013 1     1   554      558            -4         740      728          \n",
       "  arr_delay carrier flight tailnum origin dest air_time distance hour minute\n",
       "1  11       UA      1545   N14228  EWR    IAH  227      1400     5    15    \n",
       "2  20       UA      1714   N24211  LGA    IAH  227      1416     5    29    \n",
       "3  33       AA      1141   N619AA  JFK    MIA  160      1089     5    40    \n",
       "4 -18       B6       725   N804JB  JFK    BQN  183      1576     5    45    \n",
       "5 -25       DL       461   N668DN  LGA    ATL  116       762     6     0    \n",
       "6  12       UA      1696   N39463  EWR    ORD  150       719     5    58    \n",
       "  time_hour          \n",
       "1 2013-01-01 05:00:00\n",
       "2 2013-01-01 05:00:00\n",
       "3 2013-01-01 05:00:00\n",
       "4 2013-01-01 05:00:00\n",
       "5 2013-01-01 06:00:00\n",
       "6 2013-01-01 05:00:00"
      ]
     },
     "metadata": {},
     "output_type": "display_data"
    }
   ],
   "source": [
    "head(filter(flights, between(flights$dep_time/100,0,6)))"
   ]
  },
  {
   "cell_type": "code",
   "execution_count": 32,
   "metadata": {},
   "outputs": [
    {
     "data": {
      "text/html": [
       "8255"
      ],
      "text/latex": [
       "8255"
      ],
      "text/markdown": [
       "8255"
      ],
      "text/plain": [
       "[1] 8255"
      ]
     },
     "metadata": {},
     "output_type": "display_data"
    }
   ],
   "source": [
    "nrow(filter(flights, is.na(flights$dep_time)))"
   ]
  },
  {
   "cell_type": "code",
   "execution_count": 33,
   "metadata": {
    "collapsed": true
   },
   "outputs": [
    {
     "data": {
      "text/plain": [
       "      year          month             day           dep_time    sched_dep_time\n",
       " Min.   :2013   Min.   : 1.000   Min.   : 1.00   Min.   :   1   Min.   : 106  \n",
       " 1st Qu.:2013   1st Qu.: 4.000   1st Qu.: 8.00   1st Qu.: 907   1st Qu.: 906  \n",
       " Median :2013   Median : 7.000   Median :16.00   Median :1401   Median :1359  \n",
       " Mean   :2013   Mean   : 6.549   Mean   :15.71   Mean   :1349   Mean   :1344  \n",
       " 3rd Qu.:2013   3rd Qu.:10.000   3rd Qu.:23.00   3rd Qu.:1744   3rd Qu.:1729  \n",
       " Max.   :2013   Max.   :12.000   Max.   :31.00   Max.   :2400   Max.   :2359  \n",
       "                                                 NA's   :8255                 \n",
       "   dep_delay          arr_time    sched_arr_time   arr_delay       \n",
       " Min.   : -43.00   Min.   :   1   Min.   :   1   Min.   : -86.000  \n",
       " 1st Qu.:  -5.00   1st Qu.:1104   1st Qu.:1124   1st Qu.: -17.000  \n",
       " Median :  -2.00   Median :1535   Median :1556   Median :  -5.000  \n",
       " Mean   :  12.64   Mean   :1502   Mean   :1536   Mean   :   6.895  \n",
       " 3rd Qu.:  11.00   3rd Qu.:1940   3rd Qu.:1945   3rd Qu.:  14.000  \n",
       " Max.   :1301.00   Max.   :2400   Max.   :2359   Max.   :1272.000  \n",
       " NA's   :8255      NA's   :8713                  NA's   :9430      \n",
       "   carrier              flight       tailnum             origin         \n",
       " Length:336776      Min.   :   1   Length:336776      Length:336776     \n",
       " Class :character   1st Qu.: 553   Class :character   Class :character  \n",
       " Mode  :character   Median :1496   Mode  :character   Mode  :character  \n",
       "                    Mean   :1972                                        \n",
       "                    3rd Qu.:3465                                        \n",
       "                    Max.   :8500                                        \n",
       "                                                                        \n",
       "     dest              air_time        distance         hour      \n",
       " Length:336776      Min.   : 20.0   Min.   :  17   Min.   : 1.00  \n",
       " Class :character   1st Qu.: 82.0   1st Qu.: 502   1st Qu.: 9.00  \n",
       " Mode  :character   Median :129.0   Median : 872   Median :13.00  \n",
       "                    Mean   :150.7   Mean   :1040   Mean   :13.18  \n",
       "                    3rd Qu.:192.0   3rd Qu.:1389   3rd Qu.:17.00  \n",
       "                    Max.   :695.0   Max.   :4983   Max.   :23.00  \n",
       "                    NA's   :9430                                  \n",
       "     minute        time_hour                  \n",
       " Min.   : 0.00   Min.   :2013-01-01 05:00:00  \n",
       " 1st Qu.: 8.00   1st Qu.:2013-04-04 13:00:00  \n",
       " Median :29.00   Median :2013-07-03 10:00:00  \n",
       " Mean   :26.23   Mean   :2013-07-03 05:02:36  \n",
       " 3rd Qu.:44.00   3rd Qu.:2013-10-01 07:00:00  \n",
       " Max.   :59.00   Max.   :2013-12-31 23:00:00  \n",
       "                                              "
      ]
     },
     "metadata": {},
     "output_type": "display_data"
    }
   ],
   "source": [
    "summary(flights)"
   ]
  },
  {
   "cell_type": "code",
   "execution_count": 40,
   "metadata": {
    "collapsed": true
   },
   "outputs": [
    {
     "data": {
      "text/html": [
       "<table>\n",
       "<thead><tr><th scope=col>year</th><th scope=col>month</th><th scope=col>day</th><th scope=col>dep_time</th><th scope=col>sched_dep_time</th><th scope=col>dep_delay</th><th scope=col>arr_time</th><th scope=col>sched_arr_time</th><th scope=col>arr_delay</th><th scope=col>carrier</th><th scope=col>flight</th><th scope=col>tailnum</th><th scope=col>origin</th><th scope=col>dest</th><th scope=col>air_time</th><th scope=col>distance</th><th scope=col>hour</th><th scope=col>minute</th><th scope=col>time_hour</th></tr></thead>\n",
       "<tbody>\n",
       "\t<tr><td>2013               </td><td>1                  </td><td>1                  </td><td>NA                 </td><td>1630               </td><td>NA                 </td><td>NA                 </td><td>1815               </td><td>NA                 </td><td>EV                 </td><td>4308               </td><td>N18120             </td><td>EWR                </td><td>RDU                </td><td>NA                 </td><td> 416               </td><td>16                 </td><td>30                 </td><td>2013-01-01 16:00:00</td></tr>\n",
       "\t<tr><td>2013               </td><td>1                  </td><td>1                  </td><td>NA                 </td><td>1935               </td><td>NA                 </td><td>NA                 </td><td>2240               </td><td>NA                 </td><td>AA                 </td><td> 791               </td><td>N3EHAA             </td><td>LGA                </td><td>DFW                </td><td>NA                 </td><td>1389               </td><td>19                 </td><td>35                 </td><td>2013-01-01 19:00:00</td></tr>\n",
       "\t<tr><td>2013               </td><td>1                  </td><td>1                  </td><td>NA                 </td><td>1500               </td><td>NA                 </td><td>NA                 </td><td>1825               </td><td>NA                 </td><td>AA                 </td><td>1925               </td><td>N3EVAA             </td><td>LGA                </td><td>MIA                </td><td>NA                 </td><td>1096               </td><td>15                 </td><td> 0                 </td><td>2013-01-01 15:00:00</td></tr>\n",
       "\t<tr><td>2013               </td><td>1                  </td><td>1                  </td><td>NA                 </td><td> 600               </td><td>NA                 </td><td>NA                 </td><td> 901               </td><td>NA                 </td><td>B6                 </td><td> 125               </td><td>N618JB             </td><td>JFK                </td><td>FLL                </td><td>NA                 </td><td>1069               </td><td> 6                 </td><td> 0                 </td><td>2013-01-01 06:00:00</td></tr>\n",
       "\t<tr><td>2013               </td><td>1                  </td><td>2                  </td><td>NA                 </td><td>1540               </td><td>NA                 </td><td>NA                 </td><td>1747               </td><td>NA                 </td><td>EV                 </td><td>4352               </td><td>N10575             </td><td>EWR                </td><td>CVG                </td><td>NA                 </td><td> 569               </td><td>15                 </td><td>40                 </td><td>2013-01-02 15:00:00</td></tr>\n",
       "\t<tr><td>2013               </td><td>1                  </td><td>2                  </td><td>NA                 </td><td>1620               </td><td>NA                 </td><td>NA                 </td><td>1746               </td><td>NA                 </td><td>EV                 </td><td>4406               </td><td>N13949             </td><td>EWR                </td><td>PIT                </td><td>NA                 </td><td> 319               </td><td>16                 </td><td>20                 </td><td>2013-01-02 16:00:00</td></tr>\n",
       "</tbody>\n",
       "</table>\n"
      ],
      "text/latex": [
       "\\begin{tabular}{r|lllllllllllllllllll}\n",
       " year & month & day & dep\\_time & sched\\_dep\\_time & dep\\_delay & arr\\_time & sched\\_arr\\_time & arr\\_delay & carrier & flight & tailnum & origin & dest & air\\_time & distance & hour & minute & time\\_hour\\\\\n",
       "\\hline\n",
       "\t 2013                & 1                   & 1                   & NA                  & 1630                & NA                  & NA                  & 1815                & NA                  & EV                  & 4308                & N18120              & EWR                 & RDU                 & NA                  &  416                & 16                  & 30                  & 2013-01-01 16:00:00\\\\\n",
       "\t 2013                & 1                   & 1                   & NA                  & 1935                & NA                  & NA                  & 2240                & NA                  & AA                  &  791                & N3EHAA              & LGA                 & DFW                 & NA                  & 1389                & 19                  & 35                  & 2013-01-01 19:00:00\\\\\n",
       "\t 2013                & 1                   & 1                   & NA                  & 1500                & NA                  & NA                  & 1825                & NA                  & AA                  & 1925                & N3EVAA              & LGA                 & MIA                 & NA                  & 1096                & 15                  &  0                  & 2013-01-01 15:00:00\\\\\n",
       "\t 2013                & 1                   & 1                   & NA                  &  600                & NA                  & NA                  &  901                & NA                  & B6                  &  125                & N618JB              & JFK                 & FLL                 & NA                  & 1069                &  6                  &  0                  & 2013-01-01 06:00:00\\\\\n",
       "\t 2013                & 1                   & 2                   & NA                  & 1540                & NA                  & NA                  & 1747                & NA                  & EV                  & 4352                & N10575              & EWR                 & CVG                 & NA                  &  569                & 15                  & 40                  & 2013-01-02 15:00:00\\\\\n",
       "\t 2013                & 1                   & 2                   & NA                  & 1620                & NA                  & NA                  & 1746                & NA                  & EV                  & 4406                & N13949              & EWR                 & PIT                 & NA                  &  319                & 16                  & 20                  & 2013-01-02 16:00:00\\\\\n",
       "\\end{tabular}\n"
      ],
      "text/markdown": [
       "\n",
       "year | month | day | dep_time | sched_dep_time | dep_delay | arr_time | sched_arr_time | arr_delay | carrier | flight | tailnum | origin | dest | air_time | distance | hour | minute | time_hour | \n",
       "|---|---|---|---|---|---|\n",
       "| 2013                | 1                   | 1                   | NA                  | 1630                | NA                  | NA                  | 1815                | NA                  | EV                  | 4308                | N18120              | EWR                 | RDU                 | NA                  |  416                | 16                  | 30                  | 2013-01-01 16:00:00 | \n",
       "| 2013                | 1                   | 1                   | NA                  | 1935                | NA                  | NA                  | 2240                | NA                  | AA                  |  791                | N3EHAA              | LGA                 | DFW                 | NA                  | 1389                | 19                  | 35                  | 2013-01-01 19:00:00 | \n",
       "| 2013                | 1                   | 1                   | NA                  | 1500                | NA                  | NA                  | 1825                | NA                  | AA                  | 1925                | N3EVAA              | LGA                 | MIA                 | NA                  | 1096                | 15                  |  0                  | 2013-01-01 15:00:00 | \n",
       "| 2013                | 1                   | 1                   | NA                  |  600                | NA                  | NA                  |  901                | NA                  | B6                  |  125                | N618JB              | JFK                 | FLL                 | NA                  | 1069                |  6                  |  0                  | 2013-01-01 06:00:00 | \n",
       "| 2013                | 1                   | 2                   | NA                  | 1540                | NA                  | NA                  | 1747                | NA                  | EV                  | 4352                | N10575              | EWR                 | CVG                 | NA                  |  569                | 15                  | 40                  | 2013-01-02 15:00:00 | \n",
       "| 2013                | 1                   | 2                   | NA                  | 1620                | NA                  | NA                  | 1746                | NA                  | EV                  | 4406                | N13949              | EWR                 | PIT                 | NA                  |  319                | 16                  | 20                  | 2013-01-02 16:00:00 | \n",
       "\n",
       "\n"
      ],
      "text/plain": [
       "  year month day dep_time sched_dep_time dep_delay arr_time sched_arr_time\n",
       "1 2013 1     1   NA       1630           NA        NA       1815          \n",
       "2 2013 1     1   NA       1935           NA        NA       2240          \n",
       "3 2013 1     1   NA       1500           NA        NA       1825          \n",
       "4 2013 1     1   NA        600           NA        NA        901          \n",
       "5 2013 1     2   NA       1540           NA        NA       1747          \n",
       "6 2013 1     2   NA       1620           NA        NA       1746          \n",
       "  arr_delay carrier flight tailnum origin dest air_time distance hour minute\n",
       "1 NA        EV      4308   N18120  EWR    RDU  NA        416     16   30    \n",
       "2 NA        AA       791   N3EHAA  LGA    DFW  NA       1389     19   35    \n",
       "3 NA        AA      1925   N3EVAA  LGA    MIA  NA       1096     15    0    \n",
       "4 NA        B6       125   N618JB  JFK    FLL  NA       1069      6    0    \n",
       "5 NA        EV      4352   N10575  EWR    CVG  NA        569     15   40    \n",
       "6 NA        EV      4406   N13949  EWR    PIT  NA        319     16   20    \n",
       "  time_hour          \n",
       "1 2013-01-01 16:00:00\n",
       "2 2013-01-01 19:00:00\n",
       "3 2013-01-01 15:00:00\n",
       "4 2013-01-01 06:00:00\n",
       "5 2013-01-02 15:00:00\n",
       "6 2013-01-02 16:00:00"
      ]
     },
     "metadata": {},
     "output_type": "display_data"
    }
   ],
   "source": [
    "head(filter(flights, is.na(flights$dep_time)))"
   ]
  },
  {
   "cell_type": "code",
   "execution_count": 37,
   "metadata": {},
   "outputs": [
    {
     "data": {
      "text/html": [
       "<ol class=list-inline>\n",
       "\t<li>1</li>\n",
       "\t<li>1</li>\n",
       "\t<li>&lt;NA&gt;</li>\n",
       "\t<li>&lt;NA&gt;</li>\n",
       "</ol>\n"
      ],
      "text/latex": [
       "\\begin{enumerate*}\n",
       "\\item 1\n",
       "\\item 1\n",
       "\\item <NA>\n",
       "\\item <NA>\n",
       "\\end{enumerate*}\n"
      ],
      "text/markdown": [
       "1. 1\n",
       "2. 1\n",
       "3. &lt;NA&gt;\n",
       "4. &lt;NA&gt;\n",
       "\n",
       "\n"
      ],
      "text/plain": [
       "[1]  1  1 NA NA"
      ]
     },
     "metadata": {},
     "output_type": "display_data"
    }
   ],
   "source": [
    "c(NA^0,NA|TRUE,NA*0,NA|FALSE)"
   ]
  },
  {
   "cell_type": "markdown",
   "metadata": {},
   "source": [
    "## arrange()"
   ]
  },
  {
   "cell_type": "code",
   "execution_count": null,
   "metadata": {},
   "outputs": [],
   "source": []
  }
 ],
 "metadata": {
  "kernelspec": {
   "display_name": "R",
   "language": "R",
   "name": "ir"
  },
  "language_info": {
   "codemirror_mode": "r",
   "file_extension": ".r",
   "mimetype": "text/x-r-source",
   "name": "R",
   "pygments_lexer": "r",
   "version": "3.4.3"
  }
 },
 "nbformat": 4,
 "nbformat_minor": 2
}
